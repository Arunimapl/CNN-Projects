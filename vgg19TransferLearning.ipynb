{
  "nbformat": 4,
  "nbformat_minor": 0,
  "metadata": {
    "colab": {
      "provenance": [],
      "authorship_tag": "ABX9TyMwmF5ClXXolmlw67uPRNNm"
    },
    "kernelspec": {
      "name": "python3",
      "display_name": "Python 3"
    },
    "language_info": {
      "name": "python"
    }
  },
  "cells": [
    {
      "cell_type": "markdown",
      "source": [
        "VGG19"
      ],
      "metadata": {
        "id": "gF0lKTaez1WT"
      }
    },
    {
      "cell_type": "code",
      "execution_count": null,
      "metadata": {
        "id": "SM644b2ZAn4T"
      },
      "outputs": [],
      "source": [
        "import tensorflow as tf\n",
        "from tensorflow import keras\n",
        "import numpy as np\n",
        "import pandas as pd\n",
        "get_ipython().run_line_magic('matplotlib', 'inline')\n",
        "import matplotlib as mpl\n",
        "import matplotlib.pyplot as plt"
      ]
    },
    {
      "cell_type": "code",
      "source": [
        "from google.colab import drive\n",
        "drive.mount('/content/drive')"
      ],
      "metadata": {
        "id": "HRerX8AxqGUB",
        "colab": {
          "base_uri": "https://localhost:8080/"
        },
        "outputId": "0a1dc389-2f1c-47ae-ee01-8bb979a7919b"
      },
      "execution_count": null,
      "outputs": [
        {
          "output_type": "stream",
          "name": "stdout",
          "text": [
            "Mounted at /content/drive\n"
          ]
        }
      ]
    },
    {
      "cell_type": "code",
      "execution_count": null,
      "metadata": {
        "id": "Dr3HWdZ-BOgG"
      },
      "outputs": [],
      "source": [
        "from  tensorflow.keras.preprocessing.image import ImageDataGenerator\n",
        "from tensorflow.keras.callbacks import EarlyStopping"
      ]
    },
    {
      "cell_type": "code",
      "source": [
        "np.random.seed(123)\n",
        "tf.random.set_seed(123)"
      ],
      "metadata": {
        "id": "PaGcnKEH5ei0"
      },
      "execution_count": null,
      "outputs": []
    },
    {
      "cell_type": "code",
      "execution_count": null,
      "metadata": {
        "colab": {
          "base_uri": "https://localhost:8080/"
        },
        "id": "us7rv48iBQqd",
        "outputId": "0f3f8eae-73ed-4f67-939c-3c9b7f005cb6"
      },
      "outputs": [
        {
          "output_type": "stream",
          "name": "stdout",
          "text": [
            "Found 3454 images belonging to 4 classes.\n",
            "Found 431 images belonging to 4 classes.\n",
            "Found 435 images belonging to 4 classes.\n"
          ]
        }
      ],
      "source": [
        "\n",
        "train_datagen=ImageDataGenerator(\n",
        "    rescale=1./255,\n",
        "rotation_range=40,\n",
        "width_shift_range=0.2,\n",
        "height_shift_range=0.2,\n",
        "shear_range=0.2,\n",
        "zoom_range=0.2,\n",
        "horizontal_flip=True)\n",
        "\n",
        "\n",
        "test_datagen=ImageDataGenerator(rescale=1./255)\n",
        "train_generator=train_datagen.flow_from_directory(\n",
        "'/content/drive/MyDrive/CNN Banana/dataset/train',\n",
        "target_size=(150,150),\n",
        "batch_size=32,\n",
        "class_mode='categorical',\n",
        " shuffle=True\n",
        " )\n",
        "\n",
        "validation_generator=test_datagen.flow_from_directory(\n",
        "'/content/drive/MyDrive/CNN Banana/dataset/val',\n",
        "target_size=(150,150),\n",
        "batch_size=32,\n",
        "class_mode='categorical',shuffle=True\n",
        ")\n",
        "test_generator=test_datagen.flow_from_directory(\n",
        "'/content/drive/MyDrive/CNN Banana/dataset/test',\n",
        ")"
      ]
    },
    {
      "cell_type": "code",
      "source": [
        "############vgg19"
      ],
      "metadata": {
        "id": "AKg1BqAA244X"
      },
      "execution_count": null,
      "outputs": []
    },
    {
      "cell_type": "code",
      "source": [
        "from tensorflow.keras.applications import VGG19\n",
        "\n",
        "conv_base = VGG19(weights='imagenet',\n",
        "                  include_top=False,\n",
        "                  input_shape=(150, 150, 3))\n",
        "\n",
        "# Define the number of layers to freeze (e.g., the first 18 layers)\n",
        "num_layers_to_freeze = 18\n",
        "\n",
        "# Freeze the weights of the first num_layers_to_freeze layers\n",
        "for layer in conv_base.layers[:num_layers_to_freeze]:\n",
        "    layer.trainable = False\n"
      ],
      "metadata": {
        "id": "cmDUAodZ4o1G",
        "colab": {
          "base_uri": "https://localhost:8080/"
        },
        "outputId": "c538c7cb-c2d7-4fec-eb6a-f9f6a7bfb636"
      },
      "execution_count": null,
      "outputs": [
        {
          "output_type": "stream",
          "name": "stdout",
          "text": [
            "Downloading data from https://storage.googleapis.com/tensorflow/keras-applications/vgg19/vgg19_weights_tf_dim_ordering_tf_kernels_notop.h5\n",
            "80134624/80134624 [==============================] - 1s 0us/step\n"
          ]
        }
      ]
    },
    {
      "cell_type": "code",
      "source": [
        "conv_base.summary()\n"
      ],
      "metadata": {
        "colab": {
          "base_uri": "https://localhost:8080/"
        },
        "id": "QAGP-IE1RvJA",
        "outputId": "e74c1aeb-6de7-4343-9e2e-62f49f0871ba"
      },
      "execution_count": null,
      "outputs": [
        {
          "output_type": "stream",
          "name": "stdout",
          "text": [
            "Model: \"vgg19\"\n",
            "_________________________________________________________________\n",
            " Layer (type)                Output Shape              Param #   \n",
            "=================================================================\n",
            " input_2 (InputLayer)        [(None, 150, 150, 3)]     0         \n",
            "                                                                 \n",
            " block1_conv1 (Conv2D)       (None, 150, 150, 64)      1792      \n",
            "                                                                 \n",
            " block1_conv2 (Conv2D)       (None, 150, 150, 64)      36928     \n",
            "                                                                 \n",
            " block1_pool (MaxPooling2D)  (None, 75, 75, 64)        0         \n",
            "                                                                 \n",
            " block2_conv1 (Conv2D)       (None, 75, 75, 128)       73856     \n",
            "                                                                 \n",
            " block2_conv2 (Conv2D)       (None, 75, 75, 128)       147584    \n",
            "                                                                 \n",
            " block2_pool (MaxPooling2D)  (None, 37, 37, 128)       0         \n",
            "                                                                 \n",
            " block3_conv1 (Conv2D)       (None, 37, 37, 256)       295168    \n",
            "                                                                 \n",
            " block3_conv2 (Conv2D)       (None, 37, 37, 256)       590080    \n",
            "                                                                 \n",
            " block3_conv3 (Conv2D)       (None, 37, 37, 256)       590080    \n",
            "                                                                 \n",
            " block3_conv4 (Conv2D)       (None, 37, 37, 256)       590080    \n",
            "                                                                 \n",
            " block3_pool (MaxPooling2D)  (None, 18, 18, 256)       0         \n",
            "                                                                 \n",
            " block4_conv1 (Conv2D)       (None, 18, 18, 512)       1180160   \n",
            "                                                                 \n",
            " block4_conv2 (Conv2D)       (None, 18, 18, 512)       2359808   \n",
            "                                                                 \n",
            " block4_conv3 (Conv2D)       (None, 18, 18, 512)       2359808   \n",
            "                                                                 \n",
            " block4_conv4 (Conv2D)       (None, 18, 18, 512)       2359808   \n",
            "                                                                 \n",
            " block4_pool (MaxPooling2D)  (None, 9, 9, 512)         0         \n",
            "                                                                 \n",
            " block5_conv1 (Conv2D)       (None, 9, 9, 512)         2359808   \n",
            "                                                                 \n",
            " block5_conv2 (Conv2D)       (None, 9, 9, 512)         2359808   \n",
            "                                                                 \n",
            " block5_conv3 (Conv2D)       (None, 9, 9, 512)         2359808   \n",
            "                                                                 \n",
            " block5_conv4 (Conv2D)       (None, 9, 9, 512)         2359808   \n",
            "                                                                 \n",
            " block5_pool (MaxPooling2D)  (None, 4, 4, 512)         0         \n",
            "                                                                 \n",
            "=================================================================\n",
            "Total params: 20024384 (76.39 MB)\n",
            "Trainable params: 20024384 (76.39 MB)\n",
            "Non-trainable params: 0 (0.00 Byte)\n",
            "_________________________________________________________________\n"
          ]
        }
      ]
    },
    {
      "cell_type": "code",
      "source": [
        "from tensorflow.keras import models\n",
        "from tensorflow.keras import layers\n",
        "from tensorflow.keras.layers import Dropout\n",
        "model= models.Sequential()\n",
        "model.add(conv_base)\n",
        "model.add(layers.Flatten())\n",
        "model.add(layers.Dense(256,activation='relu'))\n",
        "model.add(Dropout(0.2))\n",
        "model.add(layers.Dense(4,activation='softmax'))\n"
      ],
      "metadata": {
        "id": "b8SsV6Q-RvLr"
      },
      "execution_count": null,
      "outputs": []
    },
    {
      "cell_type": "code",
      "source": [
        "model.summary()\n"
      ],
      "metadata": {
        "colab": {
          "base_uri": "https://localhost:8080/"
        },
        "id": "YNiMSx28RvOG",
        "outputId": "f6f7c1f5-5d45-4aa1-cc2f-297761585875"
      },
      "execution_count": null,
      "outputs": [
        {
          "output_type": "stream",
          "name": "stdout",
          "text": [
            "Model: \"sequential_1\"\n",
            "_________________________________________________________________\n",
            " Layer (type)                Output Shape              Param #   \n",
            "=================================================================\n",
            " vgg19 (Functional)          (None, 4, 4, 512)         20024384  \n",
            "                                                                 \n",
            " flatten_1 (Flatten)         (None, 8192)              0         \n",
            "                                                                 \n",
            " dense_2 (Dense)             (None, 256)               2097408   \n",
            "                                                                 \n",
            " dropout_1 (Dropout)         (None, 256)               0         \n",
            "                                                                 \n",
            " dense_3 (Dense)             (None, 4)                 1028      \n",
            "                                                                 \n",
            "=================================================================\n",
            "Total params: 22122820 (84.39 MB)\n",
            "Trainable params: 22122820 (84.39 MB)\n",
            "Non-trainable params: 0 (0.00 Byte)\n",
            "_________________________________________________________________\n"
          ]
        }
      ]
    },
    {
      "cell_type": "code",
      "source": [
        "from tensorflow.keras import optimizers\n",
        "\n",
        "# Define the SGD optimizer with a learning rate (e.g., 0.001)\n",
        "sgd_optimizer = optimizers.SGD(learning_rate=0.001)\n",
        "\n",
        "model.compile(loss='categorical_crossentropy',\n",
        "             optimizer=sgd_optimizer,\n",
        "             metrics=['acc'])\n"
      ],
      "metadata": {
        "id": "YE5D-VDQJ4wa"
      },
      "execution_count": null,
      "outputs": []
    },
    {
      "cell_type": "code",
      "source": [
        "checkpoint_cb = tf.keras.callbacks.ModelCheckpoint('/content/drive/MyDrive/CNN Banana(80-20)/checkpointcb', save_best_only=True)"
      ],
      "metadata": {
        "id": "V1ZksRi0RvTE"
      },
      "execution_count": null,
      "outputs": []
    },
    {
      "cell_type": "code",
      "source": [
        "\n",
        "# Define early stopping\n",
        "early_stopping = EarlyStopping(monitor='val_loss', patience=5, restore_best_weights=True)\n",
        "\n",
        "# Train the model with early stopping\n",
        "history = model.fit(\n",
        "    train_generator,\n",
        "    steps_per_epoch=5,\n",
        "    epochs=100,\n",
        "    validation_data=validation_generator,\n",
        "    validation_steps=5,\n",
        "    verbose=1,\n",
        "    callbacks=[early_stopping]\n",
        ")"
      ],
      "metadata": {
        "colab": {
          "base_uri": "https://localhost:8080/"
        },
        "id": "VZ5Golo5J41Q",
        "outputId": "1fd9cf0c-e4c1-4601-812e-5e0dee2ccc23"
      },
      "execution_count": null,
      "outputs": [
        {
          "output_type": "stream",
          "name": "stdout",
          "text": [
            "Epoch 1/100\n",
            "5/5 [==============================] - 143s 32s/step - loss: 1.5004 - acc: 0.3063 - val_loss: 1.3715 - val_acc: 0.3187\n",
            "Epoch 2/100\n",
            "5/5 [==============================] - 133s 29s/step - loss: 1.3982 - acc: 0.3187 - val_loss: 1.3097 - val_acc: 0.4688\n",
            "Epoch 3/100\n",
            "5/5 [==============================] - 164s 38s/step - loss: 1.3693 - acc: 0.3187 - val_loss: 1.3632 - val_acc: 0.3625\n",
            "Epoch 4/100\n",
            "5/5 [==============================] - 144s 33s/step - loss: 1.3391 - acc: 0.3875 - val_loss: 1.3012 - val_acc: 0.4750\n",
            "Epoch 5/100\n",
            "5/5 [==============================] - 147s 34s/step - loss: 1.2928 - acc: 0.4000 - val_loss: 1.2931 - val_acc: 0.4250\n",
            "Epoch 6/100\n",
            "5/5 [==============================] - 144s 33s/step - loss: 1.3385 - acc: 0.3250 - val_loss: 1.2496 - val_acc: 0.3688\n",
            "Epoch 7/100\n",
            "5/5 [==============================] - 144s 33s/step - loss: 1.3258 - acc: 0.3750 - val_loss: 1.2726 - val_acc: 0.3750\n",
            "Epoch 8/100\n",
            "5/5 [==============================] - 147s 33s/step - loss: 1.1930 - acc: 0.4750 - val_loss: 1.1843 - val_acc: 0.5562\n",
            "Epoch 9/100\n",
            "5/5 [==============================] - 147s 33s/step - loss: 1.2652 - acc: 0.4563 - val_loss: 1.2253 - val_acc: 0.4875\n",
            "Epoch 10/100\n",
            "5/5 [==============================] - 144s 33s/step - loss: 1.2322 - acc: 0.4437 - val_loss: 1.1027 - val_acc: 0.5750\n",
            "Epoch 11/100\n",
            "5/5 [==============================] - 146s 33s/step - loss: 1.2096 - acc: 0.4062 - val_loss: 1.1519 - val_acc: 0.4750\n",
            "Epoch 12/100\n",
            "5/5 [==============================] - 117s 26s/step - loss: 1.2223 - acc: 0.4375 - val_loss: 1.1059 - val_acc: 0.5688\n",
            "Epoch 13/100\n",
            "5/5 [==============================] - 144s 33s/step - loss: 1.2125 - acc: 0.4625 - val_loss: 1.0748 - val_acc: 0.5813\n",
            "Epoch 14/100\n",
            "5/5 [==============================] - 145s 33s/step - loss: 1.1459 - acc: 0.5312 - val_loss: 1.0487 - val_acc: 0.5875\n",
            "Epoch 15/100\n",
            "5/5 [==============================] - 147s 33s/step - loss: 1.1711 - acc: 0.4375 - val_loss: 1.0572 - val_acc: 0.5562\n",
            "Epoch 16/100\n",
            "5/5 [==============================] - 144s 33s/step - loss: 1.1221 - acc: 0.5500 - val_loss: 0.9912 - val_acc: 0.6625\n",
            "Epoch 17/100\n",
            "5/5 [==============================] - 144s 33s/step - loss: 1.0732 - acc: 0.5688 - val_loss: 0.9912 - val_acc: 0.6438\n",
            "Epoch 18/100\n",
            "5/5 [==============================] - 146s 33s/step - loss: 1.0809 - acc: 0.5312 - val_loss: 0.9545 - val_acc: 0.6125\n",
            "Epoch 19/100\n",
            "5/5 [==============================] - 146s 33s/step - loss: 1.0429 - acc: 0.5688 - val_loss: 0.9302 - val_acc: 0.5938\n",
            "Epoch 20/100\n",
            "5/5 [==============================] - 117s 26s/step - loss: 1.0559 - acc: 0.5625 - val_loss: 0.9216 - val_acc: 0.6812\n",
            "Epoch 21/100\n",
            "5/5 [==============================] - 146s 34s/step - loss: 1.0315 - acc: 0.5437 - val_loss: 1.0560 - val_acc: 0.5500\n",
            "Epoch 22/100\n",
            "5/5 [==============================] - 144s 33s/step - loss: 0.9593 - acc: 0.5938 - val_loss: 0.9254 - val_acc: 0.6500\n",
            "Epoch 23/100\n",
            "5/5 [==============================] - 144s 33s/step - loss: 0.9648 - acc: 0.5813 - val_loss: 0.7882 - val_acc: 0.7188\n",
            "Epoch 24/100\n",
            "5/5 [==============================] - 144s 33s/step - loss: 0.9197 - acc: 0.6250 - val_loss: 0.8532 - val_acc: 0.6687\n",
            "Epoch 25/100\n",
            "5/5 [==============================] - 144s 33s/step - loss: 0.9268 - acc: 0.5813 - val_loss: 0.8345 - val_acc: 0.7188\n",
            "Epoch 26/100\n",
            "5/5 [==============================] - 145s 33s/step - loss: 0.8600 - acc: 0.6375 - val_loss: 0.7742 - val_acc: 0.7375\n",
            "Epoch 27/100\n",
            "5/5 [==============================] - 149s 34s/step - loss: 0.8113 - acc: 0.6812 - val_loss: 0.8349 - val_acc: 0.6375\n",
            "Epoch 28/100\n",
            "5/5 [==============================] - 145s 33s/step - loss: 0.8523 - acc: 0.6438 - val_loss: 0.7620 - val_acc: 0.6812\n",
            "Epoch 29/100\n",
            "5/5 [==============================] - 145s 33s/step - loss: 0.8424 - acc: 0.6938 - val_loss: 0.7000 - val_acc: 0.7250\n",
            "Epoch 30/100\n",
            "5/5 [==============================] - 145s 33s/step - loss: 0.7829 - acc: 0.6875 - val_loss: 0.7210 - val_acc: 0.7250\n",
            "Epoch 31/100\n",
            "5/5 [==============================] - 145s 33s/step - loss: 0.8333 - acc: 0.6562 - val_loss: 0.7067 - val_acc: 0.7312\n",
            "Epoch 32/100\n",
            "5/5 [==============================] - 145s 33s/step - loss: 0.8139 - acc: 0.6625 - val_loss: 0.6696 - val_acc: 0.7812\n",
            "Epoch 33/100\n",
            "5/5 [==============================] - 148s 34s/step - loss: 0.7893 - acc: 0.6687 - val_loss: 0.7432 - val_acc: 0.6875\n",
            "Epoch 34/100\n",
            "5/5 [==============================] - 145s 33s/step - loss: 0.7915 - acc: 0.6750 - val_loss: 0.6817 - val_acc: 0.7437\n",
            "Epoch 35/100\n",
            "5/5 [==============================] - 148s 33s/step - loss: 0.6995 - acc: 0.7188 - val_loss: 0.7069 - val_acc: 0.7000\n",
            "Epoch 36/100\n",
            "5/5 [==============================] - 145s 33s/step - loss: 0.8192 - acc: 0.6562 - val_loss: 0.7136 - val_acc: 0.7500\n",
            "Epoch 37/100\n",
            "5/5 [==============================] - 144s 33s/step - loss: 0.7819 - acc: 0.6625 - val_loss: 0.5933 - val_acc: 0.7812\n",
            "Epoch 38/100\n",
            "5/5 [==============================] - 118s 26s/step - loss: 0.7771 - acc: 0.6938 - val_loss: 0.6512 - val_acc: 0.7500\n",
            "Epoch 39/100\n",
            "5/5 [==============================] - 145s 33s/step - loss: 0.7135 - acc: 0.6812 - val_loss: 0.6241 - val_acc: 0.7688\n",
            "Epoch 40/100\n",
            "5/5 [==============================] - 144s 33s/step - loss: 0.6517 - acc: 0.7188 - val_loss: 0.5951 - val_acc: 0.7875\n",
            "Epoch 41/100\n",
            "5/5 [==============================] - 145s 33s/step - loss: 0.6132 - acc: 0.7750 - val_loss: 0.5692 - val_acc: 0.7500\n",
            "Epoch 42/100\n",
            "5/5 [==============================] - 115s 26s/step - loss: 0.7179 - acc: 0.7125 - val_loss: 0.6024 - val_acc: 0.7500\n",
            "Epoch 43/100\n",
            "5/5 [==============================] - 146s 33s/step - loss: 0.7082 - acc: 0.7125 - val_loss: 0.6302 - val_acc: 0.7125\n",
            "Epoch 44/100\n",
            "5/5 [==============================] - 144s 33s/step - loss: 0.6167 - acc: 0.7688 - val_loss: 0.5378 - val_acc: 0.8313\n",
            "Epoch 45/100\n",
            "5/5 [==============================] - 144s 33s/step - loss: 0.6277 - acc: 0.7188 - val_loss: 0.5646 - val_acc: 0.7563\n",
            "Epoch 46/100\n",
            "5/5 [==============================] - 147s 33s/step - loss: 0.6848 - acc: 0.7125 - val_loss: 0.6318 - val_acc: 0.7312\n",
            "Epoch 47/100\n",
            "5/5 [==============================] - 144s 33s/step - loss: 0.5868 - acc: 0.7688 - val_loss: 0.5499 - val_acc: 0.7500\n",
            "Epoch 48/100\n",
            "5/5 [==============================] - 144s 33s/step - loss: 0.5469 - acc: 0.7937 - val_loss: 0.5074 - val_acc: 0.7812\n",
            "Epoch 49/100\n",
            "5/5 [==============================] - 146s 33s/step - loss: 0.5788 - acc: 0.7812 - val_loss: 0.5460 - val_acc: 0.7875\n",
            "Epoch 50/100\n",
            "5/5 [==============================] - 144s 33s/step - loss: 0.6372 - acc: 0.7312 - val_loss: 0.5690 - val_acc: 0.7563\n",
            "Epoch 51/100\n",
            "5/5 [==============================] - 144s 33s/step - loss: 0.5664 - acc: 0.8125 - val_loss: 0.5118 - val_acc: 0.8062\n",
            "Epoch 52/100\n",
            "5/5 [==============================] - 144s 33s/step - loss: 0.5104 - acc: 0.8125 - val_loss: 0.4530 - val_acc: 0.8375\n",
            "Epoch 53/100\n",
            "5/5 [==============================] - 144s 33s/step - loss: 0.6346 - acc: 0.7312 - val_loss: 0.4737 - val_acc: 0.7812\n",
            "Epoch 54/100\n",
            "5/5 [==============================] - 145s 33s/step - loss: 0.6093 - acc: 0.7750 - val_loss: 0.5241 - val_acc: 0.7625\n",
            "Epoch 55/100\n",
            "5/5 [==============================] - 145s 33s/step - loss: 0.4549 - acc: 0.8375 - val_loss: 0.4149 - val_acc: 0.8500\n",
            "Epoch 56/100\n",
            "5/5 [==============================] - 145s 33s/step - loss: 0.5190 - acc: 0.8250 - val_loss: 0.4656 - val_acc: 0.8000\n",
            "Epoch 57/100\n",
            "5/5 [==============================] - 146s 33s/step - loss: 0.4836 - acc: 0.7937 - val_loss: 0.5782 - val_acc: 0.7563\n",
            "Epoch 58/100\n",
            "5/5 [==============================] - 142s 32s/step - loss: 0.4849 - acc: 0.8000 - val_loss: 0.4620 - val_acc: 0.7875\n",
            "Epoch 59/100\n",
            "5/5 [==============================] - 143s 33s/step - loss: 0.5388 - acc: 0.7812 - val_loss: 0.5512 - val_acc: 0.7688\n",
            "Epoch 60/100\n",
            "5/5 [==============================] - 144s 33s/step - loss: 0.4493 - acc: 0.8375 - val_loss: 0.4515 - val_acc: 0.8062\n"
          ]
        }
      ]
    },
    {
      "cell_type": "code",
      "source": [
        "# Load and preprocess the test data\n",
        "test_generator = test_datagen.flow_from_directory(\n",
        "    '/content/drive/MyDrive/CNN Banana/dataset/test',\n",
        "    target_size=(150, 150),\n",
        "    batch_size=32,\n",
        "    class_mode='categorical',\n",
        "    shuffle=False  # Disable shuffling for test data\n",
        ")\n",
        "\n",
        "# Make predictions on the test data\n",
        "test_predictions = model.predict(test_generator)\n"
      ],
      "metadata": {
        "colab": {
          "base_uri": "https://localhost:8080/"
        },
        "id": "i9vHPI3BJ43w",
        "outputId": "0337f724-1845-4ef9-832a-4e461de294e3"
      },
      "execution_count": null,
      "outputs": [
        {
          "output_type": "stream",
          "name": "stdout",
          "text": [
            "Found 435 images belonging to 4 classes.\n",
            "14/14 [==============================] - 149s 11s/step\n"
          ]
        }
      ]
    },
    {
      "cell_type": "code",
      "source": [
        "import numpy as np\n",
        "import matplotlib.pyplot as plt\n",
        "from sklearn.metrics import roc_curve, auc\n",
        "from sklearn.preprocessing import label_binarize\n",
        "from itertools import cycle\n",
        "import seaborn as sns\n",
        "from sklearn.metrics import classification_report"
      ],
      "metadata": {
        "id": "STXvW16yaZjI"
      },
      "execution_count": null,
      "outputs": []
    },
    {
      "cell_type": "code",
      "source": [
        "!pip install scikit-learn\n",
        "from sklearn.metrics import confusion_matrix"
      ],
      "metadata": {
        "colab": {
          "base_uri": "https://localhost:8080/"
        },
        "id": "UirnF4u8aZlJ",
        "outputId": "cd797aa7-633c-476e-919d-ad9e22d1a79b"
      },
      "execution_count": null,
      "outputs": [
        {
          "output_type": "stream",
          "name": "stdout",
          "text": [
            "Requirement already satisfied: scikit-learn in /usr/local/lib/python3.10/dist-packages (1.2.2)\n",
            "Requirement already satisfied: numpy>=1.17.3 in /usr/local/lib/python3.10/dist-packages (from scikit-learn) (1.23.5)\n",
            "Requirement already satisfied: scipy>=1.3.2 in /usr/local/lib/python3.10/dist-packages (from scikit-learn) (1.11.3)\n",
            "Requirement already satisfied: joblib>=1.1.1 in /usr/local/lib/python3.10/dist-packages (from scikit-learn) (1.3.2)\n",
            "Requirement already satisfied: threadpoolctl>=2.0.0 in /usr/local/lib/python3.10/dist-packages (from scikit-learn) (3.2.0)\n"
          ]
        }
      ]
    },
    {
      "cell_type": "code",
      "source": [
        "# Get the true labels from the test generator\n",
        "true_labels = test_generator.classes"
      ],
      "metadata": {
        "id": "PyRreQLBJ45_"
      },
      "execution_count": null,
      "outputs": []
    },
    {
      "cell_type": "code",
      "source": [
        "# Convert predicted probabilities to class labels\n",
        "predicted_labels = np.argmax(test_predictions, axis=1)"
      ],
      "metadata": {
        "id": "oRQBocRBJ48Q"
      },
      "execution_count": null,
      "outputs": []
    },
    {
      "cell_type": "code",
      "source": [
        "model.save('my_modelvgg19.keras')"
      ],
      "metadata": {
        "id": "FT3YcCW6yOqE"
      },
      "execution_count": null,
      "outputs": []
    },
    {
      "cell_type": "code",
      "source": [
        "import numpy as np\n",
        "from sklearn.metrics import confusion_matrix, classification_report\n",
        "import matplotlib.pyplot as plt\n",
        "import seaborn as sns"
      ],
      "metadata": {
        "id": "fq-whC2qJ5A-"
      },
      "execution_count": null,
      "outputs": []
    },
    {
      "cell_type": "code",
      "source": [
        "# Calculate the confusion matrix\n",
        "cm = confusion_matrix(true_labels, predicted_labels)"
      ],
      "metadata": {
        "id": "2vghyR3oKjk0"
      },
      "execution_count": null,
      "outputs": []
    },
    {
      "cell_type": "code",
      "source": [
        "# Plot the confusion matrix\n",
        "plt.figure(figsize=(8, 6))\n",
        "sns.heatmap(cm, annot=True, fmt='d', cmap='Blues', xticklabels=test_generator.class_indices.keys(),\n",
        "            yticklabels=test_generator.class_indices.keys())\n",
        "plt.xlabel('Predicted')\n",
        "plt.ylabel('True')\n",
        "plt.title('Confusion Matrix')\n",
        "plt.show()"
      ],
      "metadata": {
        "colab": {
          "base_uri": "https://localhost:8080/",
          "height": 564
        },
        "id": "291KY40sKjpj",
        "outputId": "04070159-b61b-4b46-e408-2cf73c642f7a"
      },
      "execution_count": null,
      "outputs": [
        {
          "output_type": "display_data",
          "data": {
            "text/plain": [
              "<Figure size 800x600 with 2 Axes>"
            ],
            "image/png": "[encoded data removed]"
          },
          "metadata": {}
        }
      ]
    },
    {
      "cell_type": "code",
      "source": [
        "# Print classification report\n",
        "target_names = list(test_generator.class_indices.keys())\n",
        "report = classification_report(true_labels, predicted_labels, target_names=target_names)\n",
        "print(report)"
      ],
      "metadata": {
        "colab": {
          "base_uri": "https://localhost:8080/"
        },
        "id": "R1yMrXL7KjuP",
        "outputId": "2806b65b-077e-485d-8cf5-320aee31f3bd"
      },
      "execution_count": null,
      "outputs": [
        {
          "output_type": "stream",
          "name": "stdout",
          "text": [
            "              precision    recall  f1-score   support\n",
            "\n",
            "    mid ripe       0.74      0.68      0.71       106\n",
            "   over ripe       0.98      0.88      0.93       112\n",
            "        ripe       0.69      0.95      0.80       100\n",
            "      unripe       0.96      0.81      0.88       117\n",
            "\n",
            "    accuracy                           0.83       435\n",
            "   macro avg       0.84      0.83      0.83       435\n",
            "weighted avg       0.85      0.83      0.83       435\n",
            "\n"
          ]
        }
      ]
    },
    {
      "cell_type": "code",
      "source": [
        "import numpy as np\n",
        "import matplotlib.pyplot as plt\n",
        "from sklearn.metrics import roc_curve, auc\n",
        "from sklearn.preprocessing import label_binarize\n",
        "from itertools import cycle"
      ],
      "metadata": {
        "id": "6yx-qEfvKjxv"
      },
      "execution_count": null,
      "outputs": []
    },
    {
      "cell_type": "code",
      "source": [
        "# Number of classes\n",
        "num_classes = 4  # Change this to match your number of classes\n",
        "\n",
        "# Convert true labels to one-hot encoding\n",
        "true_labels_one_hot = label_binarize(true_labels, classes=range(num_classes))"
      ],
      "metadata": {
        "id": "7AR18io9J5FJ"
      },
      "execution_count": null,
      "outputs": []
    },
    {
      "cell_type": "code",
      "source": [
        "# Calculate predicted probabilities for each class\n",
        "predicted_probabilities = model.predict(test_generator)"
      ],
      "metadata": {
        "colab": {
          "base_uri": "https://localhost:8080/"
        },
        "id": "2oADeoybLWL-",
        "outputId": "e4c74a1f-e174-45e5-92c4-491d8028b8b3"
      },
      "execution_count": null,
      "outputs": [
        {
          "output_type": "stream",
          "name": "stdout",
          "text": [
            "14/14 [==============================] - 148s 11s/step\n"
          ]
        }
      ]
    },
    {
      "cell_type": "code",
      "source": [
        "\n",
        "# Compute ROC curve and ROC area for each class\n",
        "fpr = dict()\n",
        "tpr = dict()\n",
        "roc_auc = dict()\n",
        "\n",
        "for i in range(num_classes):\n",
        "    fpr[i], tpr[i], _ = roc_curve(true_labels_one_hot[:, i], predicted_probabilities[:, i])\n",
        "    roc_auc[i] = auc(fpr[i], tpr[i])\n"
      ],
      "metadata": {
        "id": "k1SQGistLWTp"
      },
      "execution_count": null,
      "outputs": []
    },
    {
      "cell_type": "code",
      "source": [
        "# Plot ROC curves for each class\n",
        "plt.figure(figsize=(8, 5))\n",
        "colors = cycle(['blue', 'red', 'green', 'purple'])  # Change or add more colors as needed\n",
        "\n",
        "for i, color in zip(range(num_classes), colors):\n",
        "    plt.plot(fpr[i], tpr[i], color=color, lw=2, label=f'Class {i} (AUC = {roc_auc[i]:.2f})')\n",
        "\n",
        "plt.plot([0, 1], [0, 1], 'k--', lw=2)\n",
        "plt.xlim([0.0, 1.0])\n",
        "plt.ylim([0.0, 1.05])\n",
        "plt.xlabel('False Positive Rate')\n",
        "plt.ylabel('True Positive Rate')\n",
        "plt.title('Receiver Operating Characteristic (ROC) Curve')\n",
        "plt.legend(loc='lower right')\n",
        "plt.show()"
      ],
      "metadata": {
        "colab": {
          "base_uri": "https://localhost:8080/",
          "height": 487
        },
        "id": "dBP1H-gNLWWZ",
        "outputId": "16ae4995-68c2-4f7f-e6fe-abaafcdb04f1"
      },
      "execution_count": null,
      "outputs": [
        {
          "output_type": "display_data",
          "data": {
            "text/plain": [
              "<Figure size 800x500 with 1 Axes>"
            ],
            "image/png": "[encoded data removed]"
          },
          "metadata": {}
        }
      ]
    },
    {
      "cell_type": "code",
      "source": [],
      "metadata": {
        "id": "Hw-WJZue249V"
      },
      "execution_count": null,
      "outputs": []
    },
    {
      "cell_type": "code",
      "source": [],
      "metadata": {
        "id": "sdxYH5iX24_5"
      },
      "execution_count": null,
      "outputs": []
    }
  ]
}