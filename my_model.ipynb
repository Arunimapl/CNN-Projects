{
  "nbformat": 4,
  "nbformat_minor": 0,
  "metadata": {
    "colab": {
      "provenance": [],
      "authorship_tag": "ABX9TyNCm+ZF8g87UCAptZ8yVFFq"
    },
    "kernelspec": {
      "name": "python3",
      "display_name": "Python 3"
    },
    "language_info": {
      "name": "python"
    }
  },
  "cells": [
    {
      "cell_type": "markdown",
      "source": [
        "CNN model for ripening classification of banana"
      ],
      "metadata": {
        "id": "xotmLM8Ok8mj"
      }
    },
    {
      "cell_type": "code",
      "execution_count": null,
      "metadata": {
        "id": "mSX_fSaaDnzG"
      },
      "outputs": [],
      "source": [
        "import tensorflow as tf\n",
        "from tensorflow.keras import layers, models"
      ]
    },
    {
      "cell_type": "code",
      "source": [
        "from google.colab import drive\n",
        "drive.mount('/content/drive')"
      ],
      "metadata": {
        "id": "9ZX3a6AvEON-",
        "colab": {
          "base_uri": "https://localhost:8080/"
        },
        "outputId": "a2c76c8d-6e1d-4d09-e508-62078f752cfd"
      },
      "execution_count": null,
      "outputs": [
        {
          "output_type": "stream",
          "name": "stdout",
          "text": [
            "Drive already mounted at /content/drive; to attempt to forcibly remount, call drive.mount(\"/content/drive\", force_remount=True).\n"
          ]
        }
      ]
    },
    {
      "cell_type": "code",
      "source": [
        "import tensorflow as tf\n",
        "from tensorflow import keras\n",
        "import numpy as np\n",
        "import pandas as pd\n",
        "%matplotlib inline\n",
        "import matplotlib as mpl\n",
        "import matplotlib.pyplot as plt"
      ],
      "metadata": {
        "id": "S6JpqJT9nBpW"
      },
      "execution_count": null,
      "outputs": []
    },
    {
      "cell_type": "code",
      "source": [
        "np.random.seed(123)\n",
        "tf.random.set_seed(123)"
      ],
      "metadata": {
        "id": "TKyTn6N0nBr2"
      },
      "execution_count": null,
      "outputs": []
    },
    {
      "cell_type": "code",
      "source": [
        "from  tensorflow.keras.preprocessing.image import ImageDataGenerator"
      ],
      "metadata": {
        "id": "sbMTgcP_nBuW"
      },
      "execution_count": null,
      "outputs": []
    },
    {
      "cell_type": "code",
      "source": [
        "\n",
        "train_datagen=ImageDataGenerator(\n",
        "    rescale=1./255,\n",
        "rotation_range=40,\n",
        "width_shift_range=0.2,\n",
        "height_shift_range=0.2,\n",
        "shear_range=0.2,\n",
        "zoom_range=0.2,\n",
        "horizontal_flip=True)\n",
        "\n",
        "\n",
        "test_datagen=ImageDataGenerator(rescale=1./255)\n",
        "train_generator=train_datagen.flow_from_directory(\n",
        "'/content/drive/MyDrive/CNN Banana/dataset/train',\n",
        "target_size=(150,150),\n",
        "batch_size=32,\n",
        "class_mode='categorical',\n",
        " shuffle=True\n",
        " )\n",
        "\n",
        "validation_generator=test_datagen.flow_from_directory(\n",
        "'/content/drive/MyDrive/CNN Banana/dataset/val',\n",
        "target_size=(150,150),\n",
        "batch_size=32,\n",
        "class_mode='categorical',shuffle=True\n",
        ")\n",
        "test_generator=test_datagen.flow_from_directory(\n",
        "'/content/drive/MyDrive/CNN Banana/dataset/test',\n",
        ")"
      ],
      "metadata": {
        "id": "w8C0hbW3nBwZ",
        "colab": {
          "base_uri": "https://localhost:8080/"
        },
        "outputId": "c6f4550c-2e47-46da-ab18-661580322265"
      },
      "execution_count": null,
      "outputs": [
        {
          "output_type": "stream",
          "name": "stdout",
          "text": [
            "Found 3454 images belonging to 4 classes.\n",
            "Found 431 images belonging to 4 classes.\n",
            "Found 435 images belonging to 4 classes.\n"
          ]
        }
      ]
    },
    {
      "cell_type": "code",
      "source": [
        "from tensorflow.keras import models, layers, optimizers\n",
        "from tensorflow.keras.callbacks import EarlyStopping\n",
        "\n",
        "model = models.Sequential()\n",
        "\n",
        "model.add(layers.Conv2D(32, (3, 3), activation='relu', input_shape=(150, 150, 3)))\n",
        "model.add(layers.BatchNormalization())\n",
        "model.add(layers.MaxPooling2D((2, 2)))\n",
        "\n",
        "model.add(layers.Conv2D(64, (3, 3), activation='relu'))\n",
        "model.add(layers.BatchNormalization())\n",
        "model.add(layers.MaxPooling2D((2, 2)))\n",
        "\n",
        "\n",
        "model.add(layers.Conv2D(128, (3, 3), activation='relu'))\n",
        "model.add(layers.BatchNormalization())\n",
        "model.add(layers.MaxPooling2D((2, 2)))\n",
        "\n",
        "\n",
        "model.add(layers.Flatten())\n",
        "\n",
        "model.add(layers.Dropout(0.2))\n",
        "\n",
        "model.add(layers.Dense(256, activation='relu'))\n",
        "model.add(layers.BatchNormalization())\n",
        "\n",
        "model.add(layers.Dense(128, activation='relu'))\n",
        "model.add(layers.BatchNormalization())\n",
        "\n",
        "model.add(layers.Dense(4, activation='softmax'))\n",
        "\n",
        "# Adjust the learning rate if needed\n",
        "optimizer = optimizers.Adam(lr=0.002)\n",
        "\n",
        "model.compile(loss='categorical_crossentropy',\n",
        "              optimizer=optimizer,\n",
        "              metrics=['acc'])\n",
        "\n"
      ],
      "metadata": {
        "id": "2KOPQ5WnnBzR",
        "colab": {
          "base_uri": "https://localhost:8080/"
        },
        "outputId": "f78c0a67-2eab-463f-e702-6e5c770d8548"
      },
      "execution_count": null,
      "outputs": [
        {
          "output_type": "stream",
          "name": "stderr",
          "text": [
            "WARNING:absl:`lr` is deprecated in Keras optimizer, please use `learning_rate` or use the legacy optimizer, e.g.,tf.keras.optimizers.legacy.Adam.\n"
          ]
        }
      ]
    },
    {
      "cell_type": "code",
      "source": [
        "model.summary()"
      ],
      "metadata": {
        "colab": {
          "base_uri": "https://localhost:8080/"
        },
        "id": "m18IuQ_hb5zI",
        "outputId": "eda2a1e4-017a-42b8-9697-77c5dd283d85"
      },
      "execution_count": null,
      "outputs": [
        {
          "output_type": "stream",
          "name": "stdout",
          "text": [
            "Model: \"sequential\"\n",
            "_________________________________________________________________\n",
            " Layer (type)                Output Shape              Param #   \n",
            "=================================================================\n",
            " conv2d (Conv2D)             (None, 148, 148, 32)      896       \n",
            "                                                                 \n",
            " batch_normalization (Batch  (None, 148, 148, 32)      128       \n",
            " Normalization)                                                  \n",
            "                                                                 \n",
            " max_pooling2d (MaxPooling2  (None, 74, 74, 32)        0         \n",
            " D)                                                              \n",
            "                                                                 \n",
            " conv2d_1 (Conv2D)           (None, 72, 72, 64)        18496     \n",
            "                                                                 \n",
            " batch_normalization_1 (Bat  (None, 72, 72, 64)        256       \n",
            " chNormalization)                                                \n",
            "                                                                 \n",
            " max_pooling2d_1 (MaxPoolin  (None, 36, 36, 64)        0         \n",
            " g2D)                                                            \n",
            "                                                                 \n",
            " conv2d_2 (Conv2D)           (None, 34, 34, 128)       73856     \n",
            "                                                                 \n",
            " batch_normalization_2 (Bat  (None, 34, 34, 128)       512       \n",
            " chNormalization)                                                \n",
            "                                                                 \n",
            " max_pooling2d_2 (MaxPoolin  (None, 17, 17, 128)       0         \n",
            " g2D)                                                            \n",
            "                                                                 \n",
            " flatten (Flatten)           (None, 36992)             0         \n",
            "                                                                 \n",
            " dropout (Dropout)           (None, 36992)             0         \n",
            "                                                                 \n",
            " dense (Dense)               (None, 256)               9470208   \n",
            "                                                                 \n",
            " batch_normalization_3 (Bat  (None, 256)               1024      \n",
            " chNormalization)                                                \n",
            "                                                                 \n",
            " dense_1 (Dense)             (None, 128)               32896     \n",
            "                                                                 \n",
            " batch_normalization_4 (Bat  (None, 128)               512       \n",
            " chNormalization)                                                \n",
            "                                                                 \n",
            " dense_2 (Dense)             (None, 4)                 516       \n",
            "                                                                 \n",
            "=================================================================\n",
            "Total params: 9599300 (36.62 MB)\n",
            "Trainable params: 9598084 (36.61 MB)\n",
            "Non-trainable params: 1216 (4.75 KB)\n",
            "_________________________________________________________________\n"
          ]
        }
      ]
    },
    {
      "cell_type": "code",
      "source": [
        "# Train the model with early stopping\n",
        "history = model.fit(\n",
        "    train_generator,\n",
        "    steps_per_epoch=15,\n",
        "    epochs=100,\n",
        "    validation_data=validation_generator,\n",
        "    validation_steps=5,\n",
        "    verbose=1\n",
        ")"
      ],
      "metadata": {
        "colab": {
          "base_uri": "https://localhost:8080/"
        },
        "id": "ctHxfWHLfyeh",
        "outputId": "9ee6c03e-da5c-4cfc-f652-05ab7c1162f8"
      },
      "execution_count": null,
      "outputs": [
        {
          "output_type": "stream",
          "name": "stdout",
          "text": [
            "Epoch 1/100\n",
            "15/15 [==============================] - 7s 451ms/step - loss: 0.4282 - acc: 0.8250 - val_loss: 2.1471 - val_acc: 0.2688\n",
            "Epoch 2/100\n",
            "15/15 [==============================] - 5s 305ms/step - loss: 0.3350 - acc: 0.8542 - val_loss: 2.3131 - val_acc: 0.1937\n",
            "Epoch 3/100\n",
            "15/15 [==============================] - 6s 437ms/step - loss: 0.3674 - acc: 0.8664 - val_loss: 2.3267 - val_acc: 0.2688\n",
            "Epoch 4/100\n",
            "15/15 [==============================] - 5s 307ms/step - loss: 0.2159 - acc: 0.9187 - val_loss: 2.0132 - val_acc: 0.2562\n",
            "Epoch 5/100\n",
            "15/15 [==============================] - 5s 360ms/step - loss: 0.2537 - acc: 0.9083 - val_loss: 2.5095 - val_acc: 0.2562\n",
            "Epoch 6/100\n",
            "15/15 [==============================] - 6s 369ms/step - loss: 0.2018 - acc: 0.9332 - val_loss: 2.5396 - val_acc: 0.2000\n",
            "Epoch 7/100\n",
            "15/15 [==============================] - 5s 307ms/step - loss: 0.1789 - acc: 0.9333 - val_loss: 1.8636 - val_acc: 0.2875\n",
            "Epoch 8/100\n",
            "15/15 [==============================] - 6s 420ms/step - loss: 0.2189 - acc: 0.9208 - val_loss: 2.2899 - val_acc: 0.2875\n",
            "Epoch 9/100\n",
            "15/15 [==============================] - 4s 300ms/step - loss: 0.2045 - acc: 0.9354 - val_loss: 2.8575 - val_acc: 0.2438\n",
            "Epoch 10/100\n",
            "15/15 [==============================] - 6s 410ms/step - loss: 0.2497 - acc: 0.9123 - val_loss: 2.2970 - val_acc: 0.3688\n",
            "Epoch 11/100\n",
            "15/15 [==============================] - 5s 305ms/step - loss: 0.1768 - acc: 0.9396 - val_loss: 2.8897 - val_acc: 0.4875\n",
            "Epoch 12/100\n",
            "15/15 [==============================] - 5s 347ms/step - loss: 0.2339 - acc: 0.9125 - val_loss: 2.7537 - val_acc: 0.3938\n",
            "Epoch 13/100\n",
            "15/15 [==============================] - 5s 349ms/step - loss: 0.1583 - acc: 0.9542 - val_loss: 2.9207 - val_acc: 0.2438\n",
            "Epoch 14/100\n",
            "15/15 [==============================] - 5s 306ms/step - loss: 0.1885 - acc: 0.9250 - val_loss: 2.4191 - val_acc: 0.5250\n",
            "Epoch 15/100\n",
            "15/15 [==============================] - 6s 418ms/step - loss: 0.1545 - acc: 0.9458 - val_loss: 2.7320 - val_acc: 0.2250\n",
            "Epoch 16/100\n",
            "15/15 [==============================] - 5s 304ms/step - loss: 0.1877 - acc: 0.9417 - val_loss: 2.7803 - val_acc: 0.4875\n",
            "Epoch 17/100\n",
            "15/15 [==============================] - 4s 301ms/step - loss: 0.2266 - acc: 0.9104 - val_loss: 2.9295 - val_acc: 0.3375\n",
            "Epoch 18/100\n",
            "15/15 [==============================] - 6s 399ms/step - loss: 0.1402 - acc: 0.9311 - val_loss: 2.4759 - val_acc: 0.2937\n",
            "Epoch 19/100\n",
            "15/15 [==============================] - 5s 306ms/step - loss: 0.1921 - acc: 0.9353 - val_loss: 2.3313 - val_acc: 0.4313\n",
            "Epoch 20/100\n",
            "15/15 [==============================] - 7s 434ms/step - loss: 0.1694 - acc: 0.9438 - val_loss: 2.0041 - val_acc: 0.4750\n",
            "Epoch 21/100\n",
            "15/15 [==============================] - 6s 381ms/step - loss: 0.1273 - acc: 0.9563 - val_loss: 1.8003 - val_acc: 0.4437\n",
            "Epoch 22/100\n",
            "15/15 [==============================] - 5s 306ms/step - loss: 0.1095 - acc: 0.9667 - val_loss: 2.8586 - val_acc: 0.4187\n",
            "Epoch 23/100\n",
            "15/15 [==============================] - 5s 311ms/step - loss: 0.1003 - acc: 0.9520 - val_loss: 1.7498 - val_acc: 0.5750\n",
            "Epoch 24/100\n",
            "15/15 [==============================] - 6s 365ms/step - loss: 0.1663 - acc: 0.9417 - val_loss: 2.3647 - val_acc: 0.3250\n",
            "Epoch 25/100\n",
            "15/15 [==============================] - 5s 302ms/step - loss: 0.1154 - acc: 0.9562 - val_loss: 1.5748 - val_acc: 0.6187\n",
            "Epoch 26/100\n",
            "15/15 [==============================] - 6s 375ms/step - loss: 0.1123 - acc: 0.9542 - val_loss: 1.6959 - val_acc: 0.4437\n",
            "Epoch 27/100\n",
            "15/15 [==============================] - 4s 300ms/step - loss: 0.1568 - acc: 0.9479 - val_loss: 1.4529 - val_acc: 0.6438\n",
            "Epoch 28/100\n",
            "15/15 [==============================] - 6s 401ms/step - loss: 0.1434 - acc: 0.9500 - val_loss: 0.9824 - val_acc: 0.5688\n",
            "Epoch 29/100\n",
            "15/15 [==============================] - 5s 304ms/step - loss: 0.1061 - acc: 0.9645 - val_loss: 2.1046 - val_acc: 0.4313\n",
            "Epoch 30/100\n",
            "15/15 [==============================] - 5s 305ms/step - loss: 0.1541 - acc: 0.9479 - val_loss: 0.5311 - val_acc: 0.7688\n",
            "Epoch 31/100\n",
            "15/15 [==============================] - 6s 367ms/step - loss: 0.0900 - acc: 0.9687 - val_loss: 0.5463 - val_acc: 0.7937\n",
            "Epoch 32/100\n",
            "15/15 [==============================] - 6s 379ms/step - loss: 0.1217 - acc: 0.9604 - val_loss: 0.8430 - val_acc: 0.6313\n",
            "Epoch 33/100\n",
            "15/15 [==============================] - 5s 302ms/step - loss: 0.1305 - acc: 0.9500 - val_loss: 1.3023 - val_acc: 0.5437\n",
            "Epoch 34/100\n",
            "15/15 [==============================] - 6s 412ms/step - loss: 0.1489 - acc: 0.9479 - val_loss: 0.2351 - val_acc: 0.9125\n",
            "Epoch 35/100\n",
            "15/15 [==============================] - 5s 301ms/step - loss: 0.0912 - acc: 0.9729 - val_loss: 0.1644 - val_acc: 0.9438\n",
            "Epoch 36/100\n",
            "15/15 [==============================] - 6s 404ms/step - loss: 0.1161 - acc: 0.9604 - val_loss: 0.6870 - val_acc: 0.7375\n",
            "Epoch 37/100\n",
            "15/15 [==============================] - 4s 298ms/step - loss: 0.1551 - acc: 0.9542 - val_loss: 1.2089 - val_acc: 0.6187\n",
            "Epoch 38/100\n",
            "15/15 [==============================] - 6s 400ms/step - loss: 0.1386 - acc: 0.9438 - val_loss: 1.8084 - val_acc: 0.5750\n",
            "Epoch 39/100\n",
            "15/15 [==============================] - 5s 302ms/step - loss: 0.1100 - acc: 0.9667 - val_loss: 0.1290 - val_acc: 0.9625\n",
            "Epoch 40/100\n",
            "15/15 [==============================] - 6s 376ms/step - loss: 0.0900 - acc: 0.9729 - val_loss: 0.3937 - val_acc: 0.8375\n",
            "Epoch 41/100\n",
            "15/15 [==============================] - 5s 313ms/step - loss: 0.0681 - acc: 0.9729 - val_loss: 0.2723 - val_acc: 0.8875\n",
            "Epoch 42/100\n",
            "15/15 [==============================] - 4s 298ms/step - loss: 0.1053 - acc: 0.9583 - val_loss: 0.4562 - val_acc: 0.8188\n",
            "Epoch 43/100\n",
            "15/15 [==============================] - 7s 447ms/step - loss: 0.1043 - acc: 0.9625 - val_loss: 0.1510 - val_acc: 0.9375\n",
            "Epoch 44/100\n",
            "15/15 [==============================] - 5s 301ms/step - loss: 0.0975 - acc: 0.9666 - val_loss: 0.1173 - val_acc: 0.9500\n",
            "Epoch 45/100\n",
            "15/15 [==============================] - 6s 403ms/step - loss: 0.0982 - acc: 0.9708 - val_loss: 0.1079 - val_acc: 0.9500\n",
            "Epoch 46/100\n",
            "15/15 [==============================] - 5s 319ms/step - loss: 0.0925 - acc: 0.9688 - val_loss: 0.0937 - val_acc: 0.9812\n",
            "Epoch 47/100\n",
            "15/15 [==============================] - 5s 360ms/step - loss: 0.1218 - acc: 0.9458 - val_loss: 0.1575 - val_acc: 0.9375\n",
            "Epoch 48/100\n",
            "15/15 [==============================] - 5s 301ms/step - loss: 0.1692 - acc: 0.9521 - val_loss: 0.1622 - val_acc: 0.9500\n",
            "Epoch 49/100\n",
            "15/15 [==============================] - 6s 400ms/step - loss: 0.1703 - acc: 0.9269 - val_loss: 3.3217 - val_acc: 0.4313\n",
            "Epoch 50/100\n",
            "15/15 [==============================] - 5s 315ms/step - loss: 0.1612 - acc: 0.9375 - val_loss: 4.0527 - val_acc: 0.4062\n",
            "Epoch 51/100\n",
            "15/15 [==============================] - 6s 404ms/step - loss: 0.1459 - acc: 0.9396 - val_loss: 4.0600 - val_acc: 0.4500\n",
            "Epoch 52/100\n",
            "15/15 [==============================] - 5s 309ms/step - loss: 0.1777 - acc: 0.9458 - val_loss: 6.9942 - val_acc: 0.3250\n",
            "Epoch 53/100\n",
            "15/15 [==============================] - 6s 396ms/step - loss: 0.1059 - acc: 0.9625 - val_loss: 6.4866 - val_acc: 0.3313\n",
            "Epoch 54/100\n",
            "15/15 [==============================] - 6s 435ms/step - loss: 0.0830 - acc: 0.9729 - val_loss: 2.1507 - val_acc: 0.5813\n",
            "Epoch 55/100\n",
            "15/15 [==============================] - 6s 363ms/step - loss: 0.1237 - acc: 0.9563 - val_loss: 0.0802 - val_acc: 0.9625\n",
            "Epoch 56/100\n",
            "15/15 [==============================] - 5s 309ms/step - loss: 0.1044 - acc: 0.9688 - val_loss: 0.3080 - val_acc: 0.9000\n",
            "Epoch 57/100\n",
            "15/15 [==============================] - 6s 433ms/step - loss: 0.1212 - acc: 0.9542 - val_loss: 0.0726 - val_acc: 0.9812\n",
            "Epoch 58/100\n",
            "15/15 [==============================] - 5s 309ms/step - loss: 0.0925 - acc: 0.9729 - val_loss: 0.0828 - val_acc: 0.9688\n",
            "Epoch 59/100\n",
            "15/15 [==============================] - 5s 317ms/step - loss: 0.0712 - acc: 0.9688 - val_loss: 0.1165 - val_acc: 0.9563\n",
            "Epoch 60/100\n",
            "15/15 [==============================] - 6s 381ms/step - loss: 0.1341 - acc: 0.9479 - val_loss: 0.5011 - val_acc: 0.8375\n",
            "Epoch 61/100\n",
            "15/15 [==============================] - 5s 307ms/step - loss: 0.0953 - acc: 0.9667 - val_loss: 0.7048 - val_acc: 0.7937\n",
            "Epoch 62/100\n",
            "15/15 [==============================] - 6s 393ms/step - loss: 0.0743 - acc: 0.9771 - val_loss: 0.2366 - val_acc: 0.9062\n",
            "Epoch 63/100\n",
            "15/15 [==============================] - 5s 301ms/step - loss: 0.0887 - acc: 0.9667 - val_loss: 0.0851 - val_acc: 0.9688\n",
            "Epoch 64/100\n",
            "15/15 [==============================] - 6s 409ms/step - loss: 0.1361 - acc: 0.9479 - val_loss: 0.1517 - val_acc: 0.9438\n",
            "Epoch 65/100\n",
            "15/15 [==============================] - 5s 304ms/step - loss: 0.1139 - acc: 0.9521 - val_loss: 0.0796 - val_acc: 0.9688\n",
            "Epoch 66/100\n",
            "15/15 [==============================] - 7s 446ms/step - loss: 0.1378 - acc: 0.9500 - val_loss: 0.2429 - val_acc: 0.8938\n",
            "Epoch 67/100\n",
            "15/15 [==============================] - 5s 319ms/step - loss: 0.1561 - acc: 0.9375 - val_loss: 0.1152 - val_acc: 0.9563\n",
            "Epoch 68/100\n",
            "15/15 [==============================] - 6s 373ms/step - loss: 0.1078 - acc: 0.9688 - val_loss: 1.4532 - val_acc: 0.7188\n",
            "Epoch 69/100\n",
            "15/15 [==============================] - 5s 309ms/step - loss: 0.1259 - acc: 0.9582 - val_loss: 0.6832 - val_acc: 0.7812\n",
            "Epoch 70/100\n",
            "15/15 [==============================] - 5s 362ms/step - loss: 0.1039 - acc: 0.9625 - val_loss: 0.4206 - val_acc: 0.8500\n",
            "Epoch 71/100\n",
            "15/15 [==============================] - 5s 305ms/step - loss: 0.1403 - acc: 0.9583 - val_loss: 0.2573 - val_acc: 0.9000\n",
            "Epoch 72/100\n",
            "15/15 [==============================] - 6s 396ms/step - loss: 0.0989 - acc: 0.9604 - val_loss: 0.0728 - val_acc: 0.9688\n",
            "Epoch 73/100\n",
            "15/15 [==============================] - 5s 312ms/step - loss: 0.0840 - acc: 0.9729 - val_loss: 0.1101 - val_acc: 0.9563\n",
            "Epoch 74/100\n",
            "15/15 [==============================] - 6s 380ms/step - loss: 0.1053 - acc: 0.9708 - val_loss: 1.0487 - val_acc: 0.7375\n",
            "Epoch 75/100\n",
            "15/15 [==============================] - 5s 368ms/step - loss: 0.0861 - acc: 0.9729 - val_loss: 0.0999 - val_acc: 0.9563\n",
            "Epoch 76/100\n",
            "15/15 [==============================] - 4s 300ms/step - loss: 0.1185 - acc: 0.9666 - val_loss: 0.0616 - val_acc: 0.9688\n",
            "Epoch 77/100\n",
            "15/15 [==============================] - 6s 402ms/step - loss: 0.1008 - acc: 0.9667 - val_loss: 0.0776 - val_acc: 0.9688\n",
            "Epoch 78/100\n",
            "15/15 [==============================] - 5s 309ms/step - loss: 0.0693 - acc: 0.9729 - val_loss: 0.1178 - val_acc: 0.9625\n",
            "Epoch 79/100\n",
            "15/15 [==============================] - 6s 408ms/step - loss: 0.1125 - acc: 0.9624 - val_loss: 0.1087 - val_acc: 0.9563\n",
            "Epoch 80/100\n",
            "15/15 [==============================] - 4s 296ms/step - loss: 0.0686 - acc: 0.9688 - val_loss: 0.1284 - val_acc: 0.9438\n",
            "Epoch 81/100\n",
            "15/15 [==============================] - 5s 341ms/step - loss: 0.0835 - acc: 0.9625 - val_loss: 0.0786 - val_acc: 0.9750\n",
            "Epoch 82/100\n",
            "15/15 [==============================] - 5s 355ms/step - loss: 0.0913 - acc: 0.9688 - val_loss: 0.1845 - val_acc: 0.9187\n",
            "Epoch 83/100\n",
            "15/15 [==============================] - 4s 301ms/step - loss: 0.1090 - acc: 0.9625 - val_loss: 0.1295 - val_acc: 0.9563\n",
            "Epoch 84/100\n",
            "15/15 [==============================] - 5s 373ms/step - loss: 0.1363 - acc: 0.9542 - val_loss: 0.9788 - val_acc: 0.7688\n",
            "Epoch 85/100\n",
            "15/15 [==============================] - 5s 308ms/step - loss: 0.0877 - acc: 0.9750 - val_loss: 1.7723 - val_acc: 0.7188\n",
            "Epoch 86/100\n",
            "15/15 [==============================] - 4s 298ms/step - loss: 0.1221 - acc: 0.9500 - val_loss: 1.0088 - val_acc: 0.6625\n",
            "Epoch 87/100\n",
            "15/15 [==============================] - 6s 403ms/step - loss: 0.0897 - acc: 0.9729 - val_loss: 0.1532 - val_acc: 0.9625\n",
            "Epoch 88/100\n",
            "15/15 [==============================] - 4s 298ms/step - loss: 0.0697 - acc: 0.9750 - val_loss: 0.0863 - val_acc: 0.9688\n",
            "Epoch 89/100\n",
            "15/15 [==============================] - 5s 308ms/step - loss: 0.0910 - acc: 0.9688 - val_loss: 0.0745 - val_acc: 0.9625\n",
            "Epoch 90/100\n",
            "15/15 [==============================] - 8s 530ms/step - loss: 0.0677 - acc: 0.9771 - val_loss: 0.0429 - val_acc: 0.9875\n",
            "Epoch 91/100\n",
            "15/15 [==============================] - 4s 292ms/step - loss: 0.0526 - acc: 0.9833 - val_loss: 0.1843 - val_acc: 0.9062\n",
            "Epoch 92/100\n",
            "15/15 [==============================] - 5s 349ms/step - loss: 0.0542 - acc: 0.9833 - val_loss: 0.1862 - val_acc: 0.9187\n",
            "Epoch 93/100\n",
            "15/15 [==============================] - 4s 294ms/step - loss: 0.0596 - acc: 0.9812 - val_loss: 0.1283 - val_acc: 0.9438\n",
            "Epoch 94/100\n",
            "15/15 [==============================] - 5s 366ms/step - loss: 0.0661 - acc: 0.9729 - val_loss: 0.4462 - val_acc: 0.8687\n",
            "Epoch 95/100\n",
            "15/15 [==============================] - 4s 297ms/step - loss: 0.1104 - acc: 0.9604 - val_loss: 0.4324 - val_acc: 0.8625\n",
            "Epoch 96/100\n",
            "15/15 [==============================] - 6s 390ms/step - loss: 0.0988 - acc: 0.9625 - val_loss: 0.7104 - val_acc: 0.7750\n",
            "Epoch 97/100\n",
            "15/15 [==============================] - 4s 292ms/step - loss: 0.0939 - acc: 0.9646 - val_loss: 0.1942 - val_acc: 0.9000\n",
            "Epoch 98/100\n",
            "15/15 [==============================] - 5s 338ms/step - loss: 0.1046 - acc: 0.9645 - val_loss: 0.2423 - val_acc: 0.9062\n",
            "Epoch 99/100\n",
            "15/15 [==============================] - 6s 365ms/step - loss: 0.1038 - acc: 0.9646 - val_loss: 0.0770 - val_acc: 0.9688\n",
            "Epoch 100/100\n",
            "15/15 [==============================] - 5s 365ms/step - loss: 0.1412 - acc: 0.9542 - val_loss: 0.2133 - val_acc: 0.9312\n"
          ]
        }
      ]
    },
    {
      "cell_type": "code",
      "source": [],
      "metadata": {
        "id": "Or7NUNOJKkO6"
      },
      "execution_count": null,
      "outputs": []
    },
    {
      "cell_type": "code",
      "source": [
        "# Save the model to an .h5 file in the current directory\n",
        "model.save('my_model.h5')\n",
        "\n",
        "# Reload the model from the .h5 file\n",
        "loaded_model = keras.models.load_model('my_model.h5')"
      ],
      "metadata": {
        "id": "xXj6PanymJXl"
      },
      "execution_count": null,
      "outputs": []
    },
    {
      "cell_type": "code",
      "source": [
        "# Specify the full path to save the model\n",
        "model_path = '/content/drive/MyDrive/CNN Banana/my_model.h5'"
      ],
      "metadata": {
        "id": "RsZMc-Qmbymf"
      },
      "execution_count": null,
      "outputs": []
    },
    {
      "cell_type": "code",
      "source": [
        "# Save the model to the specified directory\n",
        "model.save(model_path)"
      ],
      "metadata": {
        "id": "DrSFNdZcnB9Q"
      },
      "execution_count": null,
      "outputs": []
    },
    {
      "cell_type": "code",
      "source": [
        "import numpy as np\n",
        "from sklearn.metrics import confusion_matrix, classification_report\n",
        "import matplotlib.pyplot as plt\n",
        "import seaborn as sns"
      ],
      "metadata": {
        "id": "VM9MFA1-uNmB"
      },
      "execution_count": null,
      "outputs": []
    },
    {
      "cell_type": "code",
      "source": [
        "# Load and preprocess the test data\n",
        "test_generator = test_datagen.flow_from_directory(\n",
        "    '/content/drive/MyDrive/CNN Banana/dataset/test',\n",
        "    target_size=(150, 150),\n",
        "    batch_size=32,\n",
        "    class_mode='categorical',\n",
        "    shuffle=False  # Disable shuffling for test data\n",
        ")\n",
        "\n",
        "# Make predictions on the test data\n",
        "test_predictions = model.predict(test_generator)\n"
      ],
      "metadata": {
        "colab": {
          "base_uri": "https://localhost:8080/"
        },
        "id": "FBhWPgAtuNre",
        "outputId": "85604f83-824e-46be-930c-70473104f0fd"
      },
      "execution_count": null,
      "outputs": [
        {
          "output_type": "stream",
          "name": "stdout",
          "text": [
            "Found 435 images belonging to 4 classes.\n",
            "14/14 [==============================] - 6s 383ms/step\n"
          ]
        }
      ]
    },
    {
      "cell_type": "code",
      "source": [
        "# Get the true labels from the test generator\n",
        "true_labels = test_generator.classes"
      ],
      "metadata": {
        "id": "9Ok-y2CjuNvG"
      },
      "execution_count": null,
      "outputs": []
    },
    {
      "cell_type": "code",
      "source": [
        "# Convert predicted probabilities to class labels\n",
        "predicted_labels = np.argmax(test_predictions, axis=1)"
      ],
      "metadata": {
        "id": "WB7e6JPKuNxv"
      },
      "execution_count": null,
      "outputs": []
    },
    {
      "cell_type": "code",
      "source": [
        "# Calculate the confusion matrix\n",
        "cm = confusion_matrix(true_labels, predicted_labels)"
      ],
      "metadata": {
        "id": "h-cZTAyPuN0V"
      },
      "execution_count": null,
      "outputs": []
    },
    {
      "cell_type": "code",
      "source": [
        "# Plot the confusion matrix\n",
        "plt.figure(figsize=(8, 6))\n",
        "sns.heatmap(cm, annot=True, fmt='d', cmap='Blues', xticklabels=test_generator.class_indices.keys(),\n",
        "            yticklabels=test_generator.class_indices.keys())\n",
        "plt.xlabel('Predicted')\n",
        "plt.ylabel('True')\n",
        "plt.title('Confusion Matrix')\n",
        "plt.show()"
      ],
      "metadata": {
        "colab": {
          "base_uri": "https://localhost:8080/",
          "height": 564
        },
        "id": "uluSlaJiuN3A",
        "outputId": "f5ea76a2-9d31-4cca-a37a-5338059b7988"
      },
      "execution_count": null,
      "outputs": [
        {
          "output_type": "display_data",
          "data": {
            "text/plain": [
              "<Figure size 800x600 with 2 Axes>"
            ],
            "image/png": "[encoded data removed]"
          },
          "metadata": {}
        }
      ]
    },
    {
      "cell_type": "code",
      "source": [
        "# Print classification report\n",
        "target_names = list(test_generator.class_indices.keys())\n",
        "report = classification_report(true_labels, predicted_labels, target_names=target_names)\n",
        "print(report)"
      ],
      "metadata": {
        "colab": {
          "base_uri": "https://localhost:8080/"
        },
        "id": "MiDshXkyuN_d",
        "outputId": "501f7152-e85e-4dd0-a173-5e9595eda93b"
      },
      "execution_count": null,
      "outputs": [
        {
          "output_type": "stream",
          "name": "stdout",
          "text": [
            "              precision    recall  f1-score   support\n",
            "\n",
            "    mid ripe       0.99      0.90      0.94       106\n",
            "   over ripe       1.00      0.91      0.95       112\n",
            "        ripe       0.88      1.00      0.94       100\n",
            "      unripe       0.94      0.99      0.96       117\n",
            "\n",
            "    accuracy                           0.95       435\n",
            "   macro avg       0.95      0.95      0.95       435\n",
            "weighted avg       0.95      0.95      0.95       435\n",
            "\n"
          ]
        }
      ]
    },
    {
      "cell_type": "code",
      "source": [
        "import numpy as np\n",
        "import matplotlib.pyplot as plt\n",
        "from sklearn.metrics import roc_curve, auc\n",
        "from sklearn.preprocessing import label_binarize\n",
        "from itertools import cycle"
      ],
      "metadata": {
        "id": "EkZ4zMxNuOCY"
      },
      "execution_count": null,
      "outputs": []
    },
    {
      "cell_type": "code",
      "source": [
        "# Number of classes\n",
        "num_classes = 4  # Change this to match your number of classes\n",
        "\n",
        "# Convert true labels to one-hot encoding\n",
        "true_labels_one_hot = label_binarize(true_labels, classes=range(num_classes))"
      ],
      "metadata": {
        "id": "KvUMoRqDy0Mw"
      },
      "execution_count": null,
      "outputs": []
    },
    {
      "cell_type": "code",
      "source": [
        "# Calculate predicted probabilities for each class\n",
        "predicted_probabilities = model.predict(test_generator)"
      ],
      "metadata": {
        "colab": {
          "base_uri": "https://localhost:8080/"
        },
        "id": "Bwi6hGsdy0PW",
        "outputId": "81c8904e-884b-43dc-c526-53a90cd2acc9"
      },
      "execution_count": null,
      "outputs": [
        {
          "output_type": "stream",
          "name": "stdout",
          "text": [
            "14/14 [==============================] - 5s 328ms/step\n"
          ]
        }
      ]
    },
    {
      "cell_type": "code",
      "source": [
        "\n",
        "# Compute ROC curve and ROC area for each class\n",
        "fpr = dict()\n",
        "tpr = dict()\n",
        "roc_auc = dict()\n",
        "\n",
        "for i in range(num_classes):\n",
        "    fpr[i], tpr[i], _ = roc_curve(true_labels_one_hot[:, i], predicted_probabilities[:, i])\n",
        "    roc_auc[i] = auc(fpr[i], tpr[i])\n"
      ],
      "metadata": {
        "id": "M5hQLF7Ay0R9"
      },
      "execution_count": null,
      "outputs": []
    },
    {
      "cell_type": "code",
      "source": [
        "# Plot ROC curves for each class\n",
        "plt.figure(figsize=(8, 5))\n",
        "colors = cycle(['blue', 'red', 'green', 'purple'])  # Change or add more colors as needed\n",
        "\n",
        "for i, color in zip(range(num_classes), colors):\n",
        "    plt.plot(fpr[i], tpr[i], color=color, lw=2, label=f'Class {i} (AUC = {roc_auc[i]:.2f})')\n",
        "\n",
        "plt.plot([0, 1], [0, 1], 'k--', lw=2)\n",
        "plt.xlim([0.0, 1.0])\n",
        "plt.ylim([0.0, 1.05])\n",
        "plt.xlabel('False Positive Rate')\n",
        "plt.ylabel('True Positive Rate')\n",
        "plt.title('Receiver Operating Characteristic (ROC) Curve')\n",
        "plt.legend(loc='lower right')\n",
        "plt.show()"
      ],
      "metadata": {
        "id": "jCIpB3b-y0W5",
        "colab": {
          "base_uri": "https://localhost:8080/",
          "height": 487
        },
        "outputId": "81f3a4e0-ef64-4816-b770-f90f06ffec22"
      },
      "execution_count": null,
      "outputs": [
        {
          "output_type": "display_data",
          "data": {
            "text/plain": [
              "<Figure size 800x500 with 1 Axes>"
            ],
            "image/png": "[encoded data removed]"
          },
          "metadata": {}
        }
      ]
    },
    {
      "cell_type": "code",
      "source": [],
      "metadata": {
        "id": "U704naPRnCB3"
      },
      "execution_count": null,
      "outputs": []
    },
    {
      "cell_type": "code",
      "source": [],
      "metadata": {
        "id": "KS1gt4wNnCD_"
      },
      "execution_count": null,
      "outputs": []
    },
    {
      "cell_type": "code",
      "source": [],
      "metadata": {
        "id": "g6ApjV_enCGZ"
      },
      "execution_count": null,
      "outputs": []
    },
    {
      "cell_type": "code",
      "source": [],
      "metadata": {
        "id": "40WE-Ml6nCIy"
      },
      "execution_count": null,
      "outputs": []
    },
    {
      "cell_type": "code",
      "source": [],
      "metadata": {
        "id": "DDQQdBcjnCMH"
      },
      "execution_count": null,
      "outputs": []
    }
  ]
}