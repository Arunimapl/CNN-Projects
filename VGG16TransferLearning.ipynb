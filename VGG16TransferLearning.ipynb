{
  "nbformat": 4,
  "nbformat_minor": 0,
  "metadata": {
    "colab": {
      "provenance": [],
      "authorship_tag": "ABX9TyMrKVpXfhoTSMvcnIJ6kU7i"
    },
    "kernelspec": {
      "name": "python3",
      "display_name": "Python 3"
    },
    "language_info": {
      "name": "python"
    }
  },
  "cells": [
    {
      "cell_type": "markdown",
      "source": [
        "VGG16"
      ],
      "metadata": {
        "id": "Pn5a7Qg9zaCW"
      }
    },
    {
      "cell_type": "code",
      "execution_count": null,
      "metadata": {
        "id": "SM644b2ZAn4T"
      },
      "outputs": [],
      "source": [
        "import tensorflow as tf\n",
        "from tensorflow import keras\n",
        "import numpy as np\n",
        "import pandas as pd\n",
        "get_ipython().run_line_magic('matplotlib', 'inline')\n",
        "import matplotlib as mpl\n",
        "import matplotlib.pyplot as plt"
      ]
    },
    {
      "cell_type": "code",
      "source": [
        "from google.colab import drive\n",
        "drive.mount('/content/drive')"
      ],
      "metadata": {
        "id": "HRerX8AxqGUB",
        "colab": {
          "base_uri": "https://localhost:8080/"
        },
        "outputId": "0a1dc389-2f1c-47ae-ee01-8bb979a7919b"
      },
      "execution_count": null,
      "outputs": [
        {
          "output_type": "stream",
          "name": "stdout",
          "text": [
            "Mounted at /content/drive\n"
          ]
        }
      ]
    },
    {
      "cell_type": "code",
      "execution_count": null,
      "metadata": {
        "id": "Dr3HWdZ-BOgG"
      },
      "outputs": [],
      "source": [
        "from  tensorflow.keras.preprocessing.image import ImageDataGenerator\n",
        "from tensorflow.keras.callbacks import EarlyStopping"
      ]
    },
    {
      "cell_type": "code",
      "source": [
        "np.random.seed(123)\n",
        "tf.random.set_seed(123)"
      ],
      "metadata": {
        "id": "PaGcnKEH5ei0"
      },
      "execution_count": null,
      "outputs": []
    },
    {
      "cell_type": "code",
      "execution_count": null,
      "metadata": {
        "colab": {
          "base_uri": "https://localhost:8080/"
        },
        "id": "us7rv48iBQqd",
        "outputId": "0f3f8eae-73ed-4f67-939c-3c9b7f005cb6"
      },
      "outputs": [
        {
          "output_type": "stream",
          "name": "stdout",
          "text": [
            "Found 3454 images belonging to 4 classes.\n",
            "Found 431 images belonging to 4 classes.\n",
            "Found 435 images belonging to 4 classes.\n"
          ]
        }
      ],
      "source": [
        "\n",
        "train_datagen=ImageDataGenerator(\n",
        "    rescale=1./255,\n",
        "rotation_range=40,\n",
        "width_shift_range=0.2,\n",
        "height_shift_range=0.2,\n",
        "shear_range=0.2,\n",
        "zoom_range=0.2,\n",
        "horizontal_flip=True)\n",
        "\n",
        "\n",
        "test_datagen=ImageDataGenerator(rescale=1./255)\n",
        "train_generator=train_datagen.flow_from_directory(\n",
        "'/content/drive/MyDrive/CNN Banana/dataset/train',\n",
        "target_size=(150,150),\n",
        "batch_size=32,\n",
        "class_mode='categorical',\n",
        " shuffle=True\n",
        " )\n",
        "\n",
        "validation_generator=test_datagen.flow_from_directory(\n",
        "'/content/drive/MyDrive/CNN Banana/dataset/val',\n",
        "target_size=(150,150),\n",
        "batch_size=32,\n",
        "class_mode='categorical',shuffle=True\n",
        ")\n",
        "test_generator=test_datagen.flow_from_directory(\n",
        "'/content/drive/MyDrive/CNN Banana/dataset/test',\n",
        ")"
      ]
    },
    {
      "cell_type": "code",
      "source": [
        "########### VGG16"
      ],
      "metadata": {
        "id": "8PanjvaE1A7o"
      },
      "execution_count": null,
      "outputs": []
    },
    {
      "cell_type": "code",
      "source": [
        "from tensorflow.keras.applications import VGG16\n",
        "\n",
        "conv_base = VGG16(weights='imagenet',\n",
        "                  include_top=False,\n",
        "                  input_shape=(150, 150, 3))\n",
        "\n",
        "# Define the number of layers to freeze (e.g., the first 15 layers)\n",
        "num_layers_to_freeze = 15\n",
        "\n",
        "# Freeze the weights of the first num_layers_to_freeze layers\n",
        "for layer in conv_base.layers[:num_layers_to_freeze]:\n",
        "    layer.trainable = False\n"
      ],
      "metadata": {
        "colab": {
          "base_uri": "https://localhost:8080/"
        },
        "id": "RuFvOPL3n-Mx",
        "outputId": "be914a2a-6d9b-4983-9a0f-d72ab05c7300"
      },
      "execution_count": null,
      "outputs": [
        {
          "output_type": "stream",
          "name": "stdout",
          "text": [
            "Downloading data from https://storage.googleapis.com/tensorflow/keras-applications/vgg16/vgg16_weights_tf_dim_ordering_tf_kernels_notop.h5\n",
            "58889256/58889256 [==============================] - 0s 0us/step\n"
          ]
        }
      ]
    },
    {
      "cell_type": "code",
      "source": [
        "from tensorflow.keras import models\n",
        "from tensorflow.keras import layers\n",
        "from tensorflow.keras.layers import Dropout\n",
        "model= models.Sequential()\n",
        "model.add(conv_base)\n",
        "model.add(layers.Flatten())\n",
        "model.add(layers.Dense(256,activation='relu'))\n",
        "model.add(Dropout(0.2))\n",
        "model.add(layers.Dense(4,activation='softmax'))\n"
      ],
      "metadata": {
        "id": "Iaci8uXun-Pc"
      },
      "execution_count": null,
      "outputs": []
    },
    {
      "cell_type": "code",
      "source": [
        "model.summary()\n"
      ],
      "metadata": {
        "colab": {
          "base_uri": "https://localhost:8080/"
        },
        "id": "8hnh0Typn-R7",
        "outputId": "db92d533-f03c-4c1e-9bcf-42bdf7e2c95f"
      },
      "execution_count": null,
      "outputs": [
        {
          "output_type": "stream",
          "name": "stdout",
          "text": [
            "Model: \"sequential\"\n",
            "_________________________________________________________________\n",
            " Layer (type)                Output Shape              Param #   \n",
            "=================================================================\n",
            " vgg16 (Functional)          (None, 4, 4, 512)         14714688  \n",
            "                                                                 \n",
            " flatten (Flatten)           (None, 8192)              0         \n",
            "                                                                 \n",
            " dense (Dense)               (None, 256)               2097408   \n",
            "                                                                 \n",
            " dropout (Dropout)           (None, 256)               0         \n",
            "                                                                 \n",
            " dense_1 (Dense)             (None, 4)                 1028      \n",
            "                                                                 \n",
            "=================================================================\n",
            "Total params: 16813124 (64.14 MB)\n",
            "Trainable params: 9177860 (35.01 MB)\n",
            "Non-trainable params: 7635264 (29.13 MB)\n",
            "_________________________________________________________________\n"
          ]
        }
      ]
    },
    {
      "cell_type": "code",
      "source": [
        "from tensorflow.keras import optimizers\n",
        "\n",
        "# Define the SGD optimizer with a learning rate (e.g., 0.01)\n",
        "sgd_optimizer = optimizers.SGD(learning_rate=0.001)\n",
        "\n",
        "model.compile(loss='categorical_crossentropy',\n",
        "             optimizer=sgd_optimizer,\n",
        "             metrics=['acc'])\n"
      ],
      "metadata": {
        "id": "nojmjYYrn-Um"
      },
      "execution_count": null,
      "outputs": []
    },
    {
      "cell_type": "code",
      "source": [
        "checkpoint_cb=keras.callbacks.ModelCheckpoint(\"/content/drive/MyDrive/CNN Banana(80-20)/checkpointcb\")\n",
        "\n"
      ],
      "metadata": {
        "id": "KY1BUKl9n-W3"
      },
      "execution_count": null,
      "outputs": []
    },
    {
      "cell_type": "code",
      "source": [
        "\n",
        "# Define early stopping\n",
        "early_stopping = EarlyStopping(monitor='val_loss', patience=5, restore_best_weights=True)\n",
        "\n",
        "# Train the model with early stopping\n",
        "history = model.fit(\n",
        "    train_generator,\n",
        "    steps_per_epoch=5,\n",
        "    epochs=100,\n",
        "    validation_data=validation_generator,\n",
        "    validation_steps=5,\n",
        "    verbose=1,\n",
        "    callbacks=[early_stopping]\n",
        ")"
      ],
      "metadata": {
        "colab": {
          "base_uri": "https://localhost:8080/"
        },
        "id": "6sJIOh71oygZ",
        "outputId": "ac667201-84a5-4f9a-f0a6-712d3d80f3f0"
      },
      "execution_count": null,
      "outputs": [
        {
          "output_type": "stream",
          "name": "stdout",
          "text": [
            "Epoch 1/100\n",
            "5/5 [==============================] - 109s 23s/step - loss: 1.4321 - acc: 0.3000 - val_loss: 1.4292 - val_acc: 0.2812\n",
            "Epoch 2/100\n",
            "5/5 [==============================] - 141s 31s/step - loss: 1.4049 - acc: 0.3250 - val_loss: 1.3758 - val_acc: 0.3187\n",
            "Epoch 3/100\n",
            "5/5 [==============================] - 140s 31s/step - loss: 1.4023 - acc: 0.3375 - val_loss: 1.3605 - val_acc: 0.3375\n",
            "Epoch 4/100\n",
            "5/5 [==============================] - 141s 31s/step - loss: 1.3832 - acc: 0.3481 - val_loss: 1.3286 - val_acc: 0.4125\n",
            "Epoch 5/100\n",
            "5/5 [==============================] - 136s 30s/step - loss: 1.3479 - acc: 0.3875 - val_loss: 1.2678 - val_acc: 0.4125\n",
            "Epoch 6/100\n",
            "5/5 [==============================] - 139s 31s/step - loss: 1.3460 - acc: 0.3500 - val_loss: 1.3084 - val_acc: 0.4313\n",
            "Epoch 7/100\n",
            "5/5 [==============================] - 138s 31s/step - loss: 1.3278 - acc: 0.3625 - val_loss: 1.1839 - val_acc: 0.5375\n",
            "Epoch 8/100\n",
            "5/5 [==============================] - 140s 31s/step - loss: 1.2661 - acc: 0.4250 - val_loss: 1.1753 - val_acc: 0.5500\n",
            "Epoch 9/100\n",
            "5/5 [==============================] - 136s 30s/step - loss: 1.2585 - acc: 0.4125 - val_loss: 1.1630 - val_acc: 0.4750\n",
            "Epoch 10/100\n",
            "5/5 [==============================] - 137s 30s/step - loss: 1.2700 - acc: 0.3812 - val_loss: 1.1611 - val_acc: 0.5625\n",
            "Epoch 11/100\n",
            "5/5 [==============================] - 137s 31s/step - loss: 1.2385 - acc: 0.4500 - val_loss: 1.1274 - val_acc: 0.5750\n",
            "Epoch 12/100\n",
            "5/5 [==============================] - 96s 21s/step - loss: 1.1534 - acc: 0.5000 - val_loss: 1.1155 - val_acc: 0.5500\n",
            "Epoch 13/100\n",
            "5/5 [==============================] - 96s 21s/step - loss: 1.2160 - acc: 0.5125 - val_loss: 1.0319 - val_acc: 0.6313\n",
            "Epoch 14/100\n",
            "5/5 [==============================] - 137s 31s/step - loss: 1.0699 - acc: 0.6062 - val_loss: 1.0378 - val_acc: 0.6062\n",
            "Epoch 15/100\n",
            "5/5 [==============================] - 135s 30s/step - loss: 1.0899 - acc: 0.6000 - val_loss: 0.9764 - val_acc: 0.6438\n",
            "Epoch 16/100\n",
            "5/5 [==============================] - 139s 31s/step - loss: 1.1478 - acc: 0.5188 - val_loss: 0.9811 - val_acc: 0.6250\n",
            "Epoch 17/100\n",
            "5/5 [==============================] - 135s 30s/step - loss: 1.1036 - acc: 0.5375 - val_loss: 0.9959 - val_acc: 0.6375\n",
            "Epoch 18/100\n",
            "5/5 [==============================] - 137s 31s/step - loss: 0.9934 - acc: 0.6187 - val_loss: 0.9398 - val_acc: 0.6812\n",
            "Epoch 19/100\n",
            "5/5 [==============================] - 136s 31s/step - loss: 1.0235 - acc: 0.5750 - val_loss: 0.9338 - val_acc: 0.6438\n",
            "Epoch 20/100\n",
            "5/5 [==============================] - 136s 31s/step - loss: 1.0477 - acc: 0.5250 - val_loss: 0.8975 - val_acc: 0.6938\n",
            "Epoch 21/100\n",
            "5/5 [==============================] - 134s 30s/step - loss: 0.9585 - acc: 0.6375 - val_loss: 0.8966 - val_acc: 0.6438\n",
            "Epoch 22/100\n",
            "5/5 [==============================] - 137s 31s/step - loss: 0.9931 - acc: 0.5813 - val_loss: 0.8158 - val_acc: 0.7125\n",
            "Epoch 23/100\n",
            "5/5 [==============================] - 133s 30s/step - loss: 0.9257 - acc: 0.6500 - val_loss: 0.8250 - val_acc: 0.7000\n",
            "Epoch 24/100\n",
            "5/5 [==============================] - 138s 31s/step - loss: 0.8729 - acc: 0.6625 - val_loss: 0.8222 - val_acc: 0.6687\n",
            "Epoch 25/100\n",
            "5/5 [==============================] - 136s 31s/step - loss: 0.8381 - acc: 0.6687 - val_loss: 0.7606 - val_acc: 0.7375\n",
            "Epoch 26/100\n",
            "5/5 [==============================] - 134s 30s/step - loss: 0.8265 - acc: 0.6938 - val_loss: 0.7466 - val_acc: 0.6938\n",
            "Epoch 27/100\n",
            "5/5 [==============================] - 135s 31s/step - loss: 0.8293 - acc: 0.7125 - val_loss: 0.7973 - val_acc: 0.6438\n",
            "Epoch 28/100\n",
            "5/5 [==============================] - 93s 20s/step - loss: 0.8525 - acc: 0.6772 - val_loss: 0.7339 - val_acc: 0.7625\n",
            "Epoch 29/100\n",
            "5/5 [==============================] - 135s 31s/step - loss: 0.8644 - acc: 0.6772 - val_loss: 0.7186 - val_acc: 0.7250\n",
            "Epoch 30/100\n",
            "5/5 [==============================] - 135s 31s/step - loss: 0.7883 - acc: 0.7000 - val_loss: 0.6923 - val_acc: 0.7312\n",
            "Epoch 31/100\n",
            "5/5 [==============================] - 135s 31s/step - loss: 0.7862 - acc: 0.6687 - val_loss: 0.6866 - val_acc: 0.7375\n",
            "Epoch 32/100\n",
            "5/5 [==============================] - 136s 31s/step - loss: 0.7535 - acc: 0.6875 - val_loss: 0.6789 - val_acc: 0.7375\n",
            "Epoch 33/100\n",
            "5/5 [==============================] - 133s 30s/step - loss: 0.6615 - acc: 0.7625 - val_loss: 0.6092 - val_acc: 0.8125\n",
            "Epoch 34/100\n",
            "5/5 [==============================] - 136s 31s/step - loss: 0.6293 - acc: 0.7812 - val_loss: 0.6371 - val_acc: 0.7312\n",
            "Epoch 35/100\n",
            "5/5 [==============================] - 133s 31s/step - loss: 0.7577 - acc: 0.6625 - val_loss: 0.6613 - val_acc: 0.7250\n",
            "Epoch 36/100\n",
            "5/5 [==============================] - 96s 21s/step - loss: 0.6379 - acc: 0.7563 - val_loss: 0.6280 - val_acc: 0.7875\n",
            "Epoch 37/100\n",
            "5/5 [==============================] - 134s 30s/step - loss: 0.7063 - acc: 0.7250 - val_loss: 0.6242 - val_acc: 0.7375\n",
            "Epoch 38/100\n",
            "5/5 [==============================] - 135s 31s/step - loss: 0.6437 - acc: 0.7375 - val_loss: 0.5818 - val_acc: 0.7812\n",
            "Epoch 39/100\n",
            "5/5 [==============================] - 133s 31s/step - loss: 0.7071 - acc: 0.6687 - val_loss: 0.6740 - val_acc: 0.7375\n",
            "Epoch 40/100\n",
            "5/5 [==============================] - 136s 31s/step - loss: 0.5575 - acc: 0.7688 - val_loss: 0.5145 - val_acc: 0.8375\n",
            "Epoch 41/100\n",
            "5/5 [==============================] - 133s 30s/step - loss: 0.7038 - acc: 0.7125 - val_loss: 0.5331 - val_acc: 0.8000\n",
            "Epoch 42/100\n",
            "5/5 [==============================] - 136s 30s/step - loss: 0.5550 - acc: 0.8313 - val_loss: 0.6813 - val_acc: 0.7312\n",
            "Epoch 43/100\n",
            "5/5 [==============================] - 134s 31s/step - loss: 0.6384 - acc: 0.7500 - val_loss: 0.6190 - val_acc: 0.7688\n",
            "Epoch 44/100\n",
            "5/5 [==============================] - 133s 31s/step - loss: 0.5838 - acc: 0.7750 - val_loss: 0.5464 - val_acc: 0.7875\n",
            "Epoch 45/100\n",
            "5/5 [==============================] - 133s 31s/step - loss: 0.5920 - acc: 0.7688 - val_loss: 0.4876 - val_acc: 0.8313\n",
            "Epoch 46/100\n",
            "5/5 [==============================] - 132s 31s/step - loss: 0.6404 - acc: 0.7875 - val_loss: 0.4764 - val_acc: 0.8375\n",
            "Epoch 47/100\n",
            "5/5 [==============================] - 96s 22s/step - loss: 0.5410 - acc: 0.7875 - val_loss: 0.4254 - val_acc: 0.8562\n",
            "Epoch 48/100\n",
            "5/5 [==============================] - 94s 20s/step - loss: 0.5523 - acc: 0.8000 - val_loss: 0.5755 - val_acc: 0.7563\n",
            "Epoch 49/100\n",
            "5/5 [==============================] - 135s 31s/step - loss: 0.5554 - acc: 0.8188 - val_loss: 0.4275 - val_acc: 0.8500\n",
            "Epoch 50/100\n",
            "5/5 [==============================] - 94s 21s/step - loss: 0.5063 - acc: 0.7937 - val_loss: 0.4666 - val_acc: 0.8438\n",
            "Epoch 51/100\n",
            "5/5 [==============================] - 134s 31s/step - loss: 0.5244 - acc: 0.7937 - val_loss: 0.5308 - val_acc: 0.8250\n",
            "Epoch 52/100\n",
            "5/5 [==============================] - 94s 21s/step - loss: 0.5077 - acc: 0.7937 - val_loss: 0.4627 - val_acc: 0.8313\n"
          ]
        }
      ]
    },
    {
      "cell_type": "code",
      "source": [
        "model.save('my_modelvgg16.keras')"
      ],
      "metadata": {
        "id": "FfZyQ_2Woyi5"
      },
      "execution_count": null,
      "outputs": []
    },
    {
      "cell_type": "code",
      "source": [
        "# Load and preprocess the test data\n",
        "test_generator = test_datagen.flow_from_directory(\n",
        "    '/content/drive/MyDrive/CNN Banana/dataset/test',\n",
        "    target_size=(150, 150),\n",
        "    batch_size=32,\n",
        "    class_mode='categorical',\n",
        "    shuffle=False  # Disable shuffling for test data\n",
        ")\n",
        "\n",
        "# Make predictions on the test data\n",
        "test_predictions = model.predict(test_generator)\n"
      ],
      "metadata": {
        "colab": {
          "base_uri": "https://localhost:8080/"
        },
        "id": "6U_DJ4wCoylB",
        "outputId": "1d0a3675-523b-4525-bbc8-6e3e610828d1"
      },
      "execution_count": null,
      "outputs": [
        {
          "output_type": "stream",
          "name": "stdout",
          "text": [
            "Found 435 images belonging to 4 classes.\n",
            "14/14 [==============================] - 143s 10s/step\n"
          ]
        }
      ]
    },
    {
      "cell_type": "code",
      "source": [
        "import numpy as np\n",
        "from sklearn.metrics import confusion_matrix, classification_report\n",
        "import matplotlib.pyplot as plt\n",
        "import seaborn as sns"
      ],
      "metadata": {
        "id": "61VWryqYoynY"
      },
      "execution_count": null,
      "outputs": []
    },
    {
      "cell_type": "code",
      "source": [
        "import numpy as np\n",
        "import matplotlib.pyplot as plt\n",
        "from sklearn.metrics import roc_curve, auc\n",
        "from sklearn.preprocessing import label_binarize\n",
        "from itertools import cycle\n",
        "import seaborn as sns\n",
        "from sklearn.metrics import classification_report"
      ],
      "metadata": {
        "id": "STXvW16yaZjI"
      },
      "execution_count": null,
      "outputs": []
    },
    {
      "cell_type": "code",
      "source": [
        "!pip install scikit-learn\n",
        "from sklearn.metrics import confusion_matrix"
      ],
      "metadata": {
        "colab": {
          "base_uri": "https://localhost:8080/"
        },
        "id": "UirnF4u8aZlJ",
        "outputId": "cd797aa7-633c-476e-919d-ad9e22d1a79b"
      },
      "execution_count": null,
      "outputs": [
        {
          "output_type": "stream",
          "name": "stdout",
          "text": [
            "Requirement already satisfied: scikit-learn in /usr/local/lib/python3.10/dist-packages (1.2.2)\n",
            "Requirement already satisfied: numpy>=1.17.3 in /usr/local/lib/python3.10/dist-packages (from scikit-learn) (1.23.5)\n",
            "Requirement already satisfied: scipy>=1.3.2 in /usr/local/lib/python3.10/dist-packages (from scikit-learn) (1.11.3)\n",
            "Requirement already satisfied: joblib>=1.1.1 in /usr/local/lib/python3.10/dist-packages (from scikit-learn) (1.3.2)\n",
            "Requirement already satisfied: threadpoolctl>=2.0.0 in /usr/local/lib/python3.10/dist-packages (from scikit-learn) (3.2.0)\n"
          ]
        }
      ]
    },
    {
      "cell_type": "code",
      "source": [],
      "metadata": {
        "id": "LFGgfEdQE2s1"
      },
      "execution_count": null,
      "outputs": []
    },
    {
      "cell_type": "code",
      "source": [],
      "metadata": {
        "id": "vpY6Q0fFE3KI"
      },
      "execution_count": null,
      "outputs": []
    },
    {
      "cell_type": "code",
      "source": [
        "# Get the true labels from the test generator\n",
        "true_labels = test_generator.classes"
      ],
      "metadata": {
        "id": "w6OKggDCoyp-"
      },
      "execution_count": null,
      "outputs": []
    },
    {
      "cell_type": "code",
      "source": [
        "# Convert predicted probabilities to class labels\n",
        "predicted_labels = np.argmax(test_predictions, axis=1)"
      ],
      "metadata": {
        "id": "m7iELHTGoyte"
      },
      "execution_count": null,
      "outputs": []
    },
    {
      "cell_type": "code",
      "source": [
        "# Calculate the confusion matrix\n",
        "cm = confusion_matrix(true_labels, predicted_labels)"
      ],
      "metadata": {
        "id": "DmVrLY2Sn-ZV"
      },
      "execution_count": null,
      "outputs": []
    },
    {
      "cell_type": "code",
      "source": [
        "# Plot the confusion matrix\n",
        "plt.figure(figsize=(8, 6))\n",
        "sns.heatmap(cm, annot=True, fmt='d', cmap='Blues', xticklabels=test_generator.class_indices.keys(),\n",
        "            yticklabels=test_generator.class_indices.keys())\n",
        "plt.xlabel('Predicted')\n",
        "plt.ylabel('True')\n",
        "plt.title('Confusion Matrix')\n",
        "plt.show()"
      ],
      "metadata": {
        "colab": {
          "base_uri": "https://localhost:8080/",
          "height": 564
        },
        "id": "4CN-GAz_n-cB",
        "outputId": "6620d242-8162-43a8-da0c-19e10a97e5f9"
      },
      "execution_count": null,
      "outputs": [
        {
          "output_type": "display_data",
          "data": {
            "text/plain": [
              "<Figure size 800x600 with 2 Axes>"
            ],
            "image/png": "[encoded data removed]"
          },
          "metadata": {}
        }
      ]
    },
    {
      "cell_type": "code",
      "source": [
        "import numpy as np\n",
        "import matplotlib.pyplot as plt\n",
        "from sklearn.metrics import roc_curve, auc\n",
        "from sklearn.preprocessing import label_binarize\n",
        "from itertools import cycle"
      ],
      "metadata": {
        "id": "ebBVFFITIcwO"
      },
      "execution_count": null,
      "outputs": []
    },
    {
      "cell_type": "code",
      "source": [
        "# Number of classes\n",
        "num_classes = 4  # Change this to match your number of classes\n",
        "\n",
        "# Convert true labels to one-hot encoding\n",
        "true_labels_one_hot = label_binarize(true_labels, classes=range(num_classes))"
      ],
      "metadata": {
        "id": "XzDy0lBmHfCS"
      },
      "execution_count": null,
      "outputs": []
    },
    {
      "cell_type": "code",
      "source": [
        "# Calculate predicted probabilities for each class\n",
        "predicted_probabilities = model.predict(test_generator)"
      ],
      "metadata": {
        "colab": {
          "base_uri": "https://localhost:8080/"
        },
        "id": "dSjGzuKUHfEz",
        "outputId": "dea23956-b4a0-4d1f-9caf-6772f5e11ca1"
      },
      "execution_count": null,
      "outputs": [
        {
          "output_type": "stream",
          "name": "stdout",
          "text": [
            "14/14 [==============================] - 123s 9s/step\n"
          ]
        }
      ]
    },
    {
      "cell_type": "code",
      "source": [
        "\n",
        "# Compute ROC curve and ROC area for each class\n",
        "fpr = dict()\n",
        "tpr = dict()\n",
        "roc_auc = dict()\n",
        "\n",
        "for i in range(num_classes):\n",
        "    fpr[i], tpr[i], _ = roc_curve(true_labels_one_hot[:, i], predicted_probabilities[:, i])\n",
        "    roc_auc[i] = auc(fpr[i], tpr[i])\n"
      ],
      "metadata": {
        "id": "BXJZUqA_HfG9"
      },
      "execution_count": null,
      "outputs": []
    },
    {
      "cell_type": "code",
      "source": [
        "# Plot ROC curves for each class\n",
        "plt.figure(figsize=(8, 5))\n",
        "colors = cycle(['blue', 'red', 'green', 'purple'])  # Change or add more colors as needed\n",
        "\n",
        "for i, color in zip(range(num_classes), colors):\n",
        "    plt.plot(fpr[i], tpr[i], color=color, lw=2, label=f'Class {i} (AUC = {roc_auc[i]:.2f})')\n",
        "\n",
        "plt.plot([0, 1], [0, 1], 'k--', lw=2)\n",
        "plt.xlim([0.0, 1.0])\n",
        "plt.ylim([0.0, 1.05])\n",
        "plt.xlabel('False Positive Rate')\n",
        "plt.ylabel('True Positive Rate')\n",
        "plt.title('Receiver Operating Characteristic (ROC) Curve')\n",
        "plt.legend(loc='lower right')\n",
        "plt.show()"
      ],
      "metadata": {
        "colab": {
          "base_uri": "https://localhost:8080/",
          "height": 487
        },
        "id": "xCgZs7KGHfLC",
        "outputId": "b673dd4d-1f2a-4c02-f752-a1aa826d6031"
      },
      "execution_count": null,
      "outputs": [
        {
          "output_type": "display_data",
          "data": {
            "text/plain": [
              "<Figure size 800x500 with 1 Axes>"
            ],
            "image/png": "[encoded data removed]"
          },
          "metadata": {}
        }
      ]
    },
    {
      "cell_type": "code",
      "source": [],
      "metadata": {
        "id": "v9zdie621BSm"
      },
      "execution_count": null,
      "outputs": []
    },
    {
      "cell_type": "code",
      "source": [],
      "metadata": {
        "id": "niMGqtEd1BVG"
      },
      "execution_count": null,
      "outputs": []
    },
    {
      "cell_type": "code",
      "source": [],
      "metadata": {
        "id": "kPHvUIdb1BXn"
      },
      "execution_count": null,
      "outputs": []
    },
    {
      "cell_type": "code",
      "source": [],
      "metadata": {
        "id": "iNQZV2ty1BaF"
      },
      "execution_count": null,
      "outputs": []
    },
    {
      "cell_type": "code",
      "source": [],
      "metadata": {
        "id": "0bkGVZua1Bco"
      },
      "execution_count": null,
      "outputs": []
    },
    {
      "cell_type": "code",
      "source": [],
      "metadata": {
        "id": "kz19cMfT1Be_"
      },
      "execution_count": null,
      "outputs": []
    },
    {
      "cell_type": "code",
      "source": [],
      "metadata": {
        "id": "BTHvyyHa1Bhh"
      },
      "execution_count": null,
      "outputs": []
    },
    {
      "cell_type": "code",
      "source": [],
      "metadata": {
        "id": "D2RgRwx41Bkz"
      },
      "execution_count": null,
      "outputs": []
    }
  ]
}